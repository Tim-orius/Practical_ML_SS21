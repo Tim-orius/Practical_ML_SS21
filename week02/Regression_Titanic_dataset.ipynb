{
  "nbformat": 4,
  "nbformat_minor": 0,
  "metadata": {
    "colab": {
      "name": "Regression_Titanic_dataset",
      "provenance": [],
      "collapsed_sections": [],
      "include_colab_link": true
    },
    "kernelspec": {
      "name": "python3",
      "display_name": "Python 3"
    }
  },
  "cells": [
    {
      "cell_type": "markdown",
      "metadata": {
        "id": "view-in-github",
        "colab_type": "text"
      },
      "source": [
        "<a href=\"https://colab.research.google.com/github/Tim-orius/Practical_ML_SS21/blob/notebook2/week02/Regression_Titanic_dataset.ipynb\" target=\"_parent\"><img src=\"https://colab.research.google.com/assets/colab-badge.svg\" alt=\"Open In Colab\"/></a>"
      ]
    },
    {
      "cell_type": "markdown",
      "metadata": {
        "id": "k3fYh7yvuhzO"
      },
      "source": [
        "# Regression and the Titanic dataset\n",
        "\n",
        "Welcome to this week's session where we will explore the Titanic dataset and apply what we have learned about linear and logistic regression and gradient descent methods. \n",
        "\n",
        "You can find the Titanic dataset and a corresponding tutorial challenge on Kaggle at https://www.kaggle.com/c/titanic "
      ]
    },
    {
      "cell_type": "markdown",
      "metadata": {
        "id": "XfenGnZLFMUG"
      },
      "source": [
        "Let's first import the libraries we will need:"
      ]
    },
    {
      "cell_type": "code",
      "metadata": {
        "id": "Ftb-COR2ttbI"
      },
      "source": [
        "import pandas as pd \n",
        "import matplotlib.pyplot as plt\n",
        "import seaborn as sns \n",
        "import numpy as np\n",
        "%matplotlib inline\n",
        "sns.set()"
      ],
      "execution_count": 1,
      "outputs": []
    },
    {
      "cell_type": "markdown",
      "metadata": {
        "id": "JlyClR1TFT6Y"
      },
      "source": [
        "and load the dataset. Luckily the dataset is available through seaborns load_dataset function, but you can also find it on Kaggle."
      ]
    },
    {
      "cell_type": "code",
      "metadata": {
        "id": "NPY-84n6vZIN",
        "colab": {
          "base_uri": "https://localhost:8080/"
        },
        "outputId": "e3bb01df-a4b6-43e6-ee71-e477c878dd08"
      },
      "source": [
        "titanic = sns.load_dataset(\"titanic\")\n",
        "print(titanic.info())\n",
        "print(titanic.describe())"
      ],
      "execution_count": 25,
      "outputs": [
        {
          "output_type": "stream",
          "name": "stdout",
          "text": [
            "<class 'pandas.core.frame.DataFrame'>\n",
            "RangeIndex: 891 entries, 0 to 890\n",
            "Data columns (total 15 columns):\n",
            " #   Column       Non-Null Count  Dtype   \n",
            "---  ------       --------------  -----   \n",
            " 0   survived     891 non-null    int64   \n",
            " 1   pclass       891 non-null    int64   \n",
            " 2   sex          891 non-null    object  \n",
            " 3   age          714 non-null    float64 \n",
            " 4   sibsp        891 non-null    int64   \n",
            " 5   parch        891 non-null    int64   \n",
            " 6   fare         891 non-null    float64 \n",
            " 7   embarked     889 non-null    object  \n",
            " 8   class        891 non-null    category\n",
            " 9   who          891 non-null    object  \n",
            " 10  adult_male   891 non-null    bool    \n",
            " 11  deck         203 non-null    category\n",
            " 12  embark_town  889 non-null    object  \n",
            " 13  alive        891 non-null    object  \n",
            " 14  alone        891 non-null    bool    \n",
            "dtypes: bool(2), category(2), float64(2), int64(4), object(5)\n",
            "memory usage: 80.7+ KB\n",
            "None\n",
            "         survived      pclass         age       sibsp       parch        fare\n",
            "count  891.000000  891.000000  714.000000  891.000000  891.000000  891.000000\n",
            "mean     0.383838    2.308642   29.699118    0.523008    0.381594   32.204208\n",
            "std      0.486592    0.836071   14.526497    1.102743    0.806057   49.693429\n",
            "min      0.000000    1.000000    0.420000    0.000000    0.000000    0.000000\n",
            "25%      0.000000    2.000000   20.125000    0.000000    0.000000    7.910400\n",
            "50%      0.000000    3.000000   28.000000    0.000000    0.000000   14.454200\n",
            "75%      1.000000    3.000000   38.000000    1.000000    0.000000   31.000000\n",
            "max      1.000000    3.000000   80.000000    8.000000    6.000000  512.329200\n"
          ]
        }
      ]
    },
    {
      "cell_type": "markdown",
      "metadata": {
        "id": "ldMNQRXjF35c"
      },
      "source": [
        "## Inspecting the Titanic dataset and preparing it for machine learning\n",
        "\n",
        "Before we continue with machine learning algorithms, let us take a closer look at the dataset and select suitable features for our regression. \n",
        "\n",
        "A good first step is to count the number of entries per feature.\n",
        "\n",
        "**Print the count**"
      ]
    },
    {
      "cell_type": "code",
      "metadata": {
        "id": "LPnYXtlbwbF-",
        "colab": {
          "base_uri": "https://localhost:8080/"
        },
        "outputId": "79a9e683-7082-4890-f29a-2c018bfb8f1f"
      },
      "source": [
        "print(titanic.count())\n",
        "# print the total count per category"
      ],
      "execution_count": 26,
      "outputs": [
        {
          "output_type": "stream",
          "name": "stdout",
          "text": [
            "survived       891\n",
            "pclass         891\n",
            "sex            891\n",
            "age            714\n",
            "sibsp          891\n",
            "parch          891\n",
            "fare           891\n",
            "embarked       889\n",
            "class          891\n",
            "who            891\n",
            "adult_male     891\n",
            "deck           203\n",
            "embark_town    889\n",
            "alive          891\n",
            "alone          891\n",
            "dtype: int64\n"
          ]
        }
      ]
    },
    {
      "cell_type": "markdown",
      "metadata": {
        "id": "M6fj51_HGScr"
      },
      "source": [
        "We can observe that the passenger data has some **incomplete entries** and **some features are missing for certain passengers**. \n",
        "\n",
        "In addition some entries are lacking more than others. \n",
        "\n",
        "For the overall 891 passangers there is only 2 values missing for the catefories *embarked* and *embark_town*. In other words, we could easily adapt the dataset to include these two features by excluding these two passangers from our list of features. \n",
        "\n",
        "Other categories such as *age* and *deck* are much more difficult to leverage. We do not have any means to fill in the missing data and it is a bad idea to throw away the majority of our passenger data if we wanted to use the *deck* feature. The best idea is thus to not consider the *deck* feature in our further analysis.\n",
        "\n",
        "Let's drop the two passengers with missing *embarked* and *embark_town* entries:"
      ]
    },
    {
      "cell_type": "code",
      "metadata": {
        "id": "7SiXYrQcIkuI",
        "outputId": "61a44422-56bc-4591-b3c1-9a651c6204f4",
        "colab": {
          "base_uri": "https://localhost:8080/"
        }
      },
      "source": [
        "titanic = titanic.dropna(subset=['embarked', 'embark_town'])\n",
        "\n",
        "print(titanic.count())"
      ],
      "execution_count": 27,
      "outputs": [
        {
          "output_type": "stream",
          "name": "stdout",
          "text": [
            "survived       889\n",
            "pclass         889\n",
            "sex            889\n",
            "age            712\n",
            "sibsp          889\n",
            "parch          889\n",
            "fare           889\n",
            "embarked       889\n",
            "class          889\n",
            "who            889\n",
            "adult_male     889\n",
            "deck           201\n",
            "embark_town    889\n",
            "alive          889\n",
            "alone          889\n",
            "dtype: int64\n"
          ]
        }
      ]
    },
    {
      "cell_type": "markdown",
      "metadata": {
        "id": "pb8baVIvK2y7"
      },
      "source": [
        "The next thing we observe is that some features we want to use do not have numerical values but are stored as strings. \n",
        "\n",
        "This is the case for the embarked feature that we have just cleaned where passengers are stored into three categories *C, Q, S* depending on whether they have embarked in one of three towns: C = Cherbourg, Q = Queenstown, S = Southampton.   "
      ]
    },
    {
      "cell_type": "code",
      "metadata": {
        "id": "uYz3V-kwKzFd",
        "outputId": "03848f64-347d-4080-ca2c-2d8e3460f856",
        "colab": {
          "base_uri": "https://localhost:8080/"
        }
      },
      "source": [
        "print(titanic[\"embarked\"])"
      ],
      "execution_count": 28,
      "outputs": [
        {
          "output_type": "stream",
          "name": "stdout",
          "text": [
            "0      S\n",
            "1      C\n",
            "2      S\n",
            "3      S\n",
            "4      S\n",
            "      ..\n",
            "886    S\n",
            "887    S\n",
            "888    S\n",
            "889    C\n",
            "890    Q\n",
            "Name: embarked, Length: 889, dtype: object\n"
          ]
        }
      ]
    },
    {
      "cell_type": "markdown",
      "metadata": {
        "id": "r9_qVxunLdwf"
      },
      "source": [
        "What we often do in machine learning is that we can create a numerical **embedding** where we map the strings to numbers. In our case we can choose a quite simple one and convert **C, Q, S into 0, 1, 2**.\n",
        "\n",
        "\n",
        "Luckily pandas offers a function for this named *replace({'string': num})*"
      ]
    },
    {
      "cell_type": "code",
      "metadata": {
        "id": "wST5AidoGN7V",
        "outputId": "2e8bf9da-c938-4fd4-82a7-70117b81a956",
        "colab": {
          "base_uri": "https://localhost:8080/"
        }
      },
      "source": [
        "# check if already converted because the cell will otherwise\n",
        "# crash if executed multiple times\n",
        "if isinstance(titanic[\"embarked\"][0], str):\n",
        "  titanic[\"embarked\"] = titanic[\"embarked\"].replace({'C': 0, 'Q': 1, 'S': 2})\n",
        "print(titanic)"
      ],
      "execution_count": 29,
      "outputs": [
        {
          "output_type": "stream",
          "name": "stdout",
          "text": [
            "     survived  pclass     sex   age  sibsp  parch     fare  embarked   class  \\\n",
            "0           0       3    male  22.0      1      0   7.2500         2   Third   \n",
            "1           1       1  female  38.0      1      0  71.2833         0   First   \n",
            "2           1       3  female  26.0      0      0   7.9250         2   Third   \n",
            "3           1       1  female  35.0      1      0  53.1000         2   First   \n",
            "4           0       3    male  35.0      0      0   8.0500         2   Third   \n",
            "..        ...     ...     ...   ...    ...    ...      ...       ...     ...   \n",
            "886         0       2    male  27.0      0      0  13.0000         2  Second   \n",
            "887         1       1  female  19.0      0      0  30.0000         2   First   \n",
            "888         0       3  female   NaN      1      2  23.4500         2   Third   \n",
            "889         1       1    male  26.0      0      0  30.0000         0   First   \n",
            "890         0       3    male  32.0      0      0   7.7500         1   Third   \n",
            "\n",
            "       who  adult_male deck  embark_town alive  alone  \n",
            "0      man        True  NaN  Southampton    no  False  \n",
            "1    woman       False    C    Cherbourg   yes  False  \n",
            "2    woman       False  NaN  Southampton   yes   True  \n",
            "3    woman       False    C  Southampton   yes  False  \n",
            "4      man        True  NaN  Southampton    no   True  \n",
            "..     ...         ...  ...          ...   ...    ...  \n",
            "886    man        True  NaN  Southampton    no   True  \n",
            "887  woman       False    B  Southampton   yes   True  \n",
            "888  woman       False  NaN  Southampton    no  False  \n",
            "889    man        True    C    Cherbourg   yes   True  \n",
            "890    man        True  NaN   Queenstown    no   True  \n",
            "\n",
            "[889 rows x 15 columns]\n"
          ]
        }
      ]
    },
    {
      "cell_type": "markdown",
      "metadata": {
        "id": "AhQHVVcZtVsI"
      },
      "source": [
        "We can also notice that some features exist multiple times in the data frame in multiple repsentations such as *pclass* and *class*, once being encoded numerically and with a string. We will simply select only one of these categories later for our final dataset. \n",
        "\n",
        "Let's visuallize  some of the features:"
      ]
    },
    {
      "cell_type": "code",
      "metadata": {
        "id": "rpn2AHlxtNBZ",
        "outputId": "92348bcf-dce5-4400-bc73-0cd47a409700",
        "colab": {
          "base_uri": "https://localhost:8080/"
        }
      },
      "source": [
        "print(\"\\n Female only count\")\n",
        "# print the female only count per category. You can use the string match function \"str.match()\"\n",
        "print(titanic[titanic['sex'].str.match('female')].count())\n",
        "\n",
        "print(\"\\n Male only count\")\n",
        "# print the male only count per category\n",
        "print(titanic[titanic['sex'].str.match('male')].count())"
      ],
      "execution_count": 30,
      "outputs": [
        {
          "output_type": "stream",
          "name": "stdout",
          "text": [
            "\n",
            " Female only count\n",
            "survived       312\n",
            "pclass         312\n",
            "sex            312\n",
            "age            259\n",
            "sibsp          312\n",
            "parch          312\n",
            "fare           312\n",
            "embarked       312\n",
            "class          312\n",
            "who            312\n",
            "adult_male     312\n",
            "deck            95\n",
            "embark_town    312\n",
            "alive          312\n",
            "alone          312\n",
            "dtype: int64\n",
            "\n",
            " Male only count\n",
            "survived       577\n",
            "pclass         577\n",
            "sex            577\n",
            "age            453\n",
            "sibsp          577\n",
            "parch          577\n",
            "fare           577\n",
            "embarked       577\n",
            "class          577\n",
            "who            577\n",
            "adult_male     577\n",
            "deck           106\n",
            "embark_town    577\n",
            "alive          577\n",
            "alone          577\n",
            "dtype: int64\n"
          ]
        }
      ]
    },
    {
      "cell_type": "markdown",
      "metadata": {
        "id": "yVmd3MNJugLp"
      },
      "source": [
        "We can see that there was almost twice as many males as females on the titanic. \n",
        "\n",
        "If we take a look at the age distribution in a box plot with depicted mean and variances, we can see that age is almost evenly distributed, with some outliers in males aged older than 70. "
      ]
    },
    {
      "cell_type": "code",
      "metadata": {
        "id": "QKHqF3rUxYt1",
        "outputId": "dff54ae1-0752-46a4-858e-212d1fd25d69",
        "colab": {
          "base_uri": "https://localhost:8080/",
          "height": 285
        }
      },
      "source": [
        "plt.figure()\n",
        "ax = sns.boxplot(data=titanic, x='sex', y='age')\n",
        "# create a seaborn box plot with sex vs age"
      ],
      "execution_count": 36,
      "outputs": [
        {
          "output_type": "display_data",
          "data": {
            "text/plain": [
              "<Figure size 432x288 with 1 Axes>"
            ],
            "image/png": "[encoded data removed]"
          },
          "metadata": {
            "needs_background": "light"
          }
        }
      ]
    },
    {
      "cell_type": "markdown",
      "metadata": {
        "id": "8WYfMSNtvELn"
      },
      "source": [
        "Let's proceed with taking a visual look at survival rates. Intuitively a good feature for survival rate would be the gender and class of a passenger.\n",
        "\n",
        "We can display both in a histogram. "
      ]
    },
    {
      "cell_type": "code",
      "metadata": {
        "id": "JVXaakWLur0n",
        "outputId": "312acca4-eeb3-4ad5-a6bb-7e7bae669e32",
        "colab": {
          "base_uri": "https://localhost:8080/",
          "height": 571
        }
      },
      "source": [
        "# create a histgram with seaborn for the survived category for each class \n",
        "sns.countplot(data=titanic, hue='class', x='survived')\n",
        "\n",
        "# create a histgram with seaborn for the survived category and the \"who\" category\n",
        "plt.figure()\n",
        "sns.countplot(data=titanic, hue='who', x='survived')"
      ],
      "execution_count": 43,
      "outputs": [
        {
          "output_type": "execute_result",
          "data": {
            "text/plain": [
              "<matplotlib.axes._subplots.AxesSubplot at 0x7f466b04a8d0>"
            ]
          },
          "metadata": {},
          "execution_count": 43
        },
        {
          "output_type": "display_data",
          "data": {
            "text/plain": [
              "<Figure size 432x288 with 1 Axes>"
            ],
            "image/png": "[encoded data removed]"
          },
          "metadata": {
            "needs_background": "light"
          }
        },
        {
          "output_type": "display_data",
          "data": {
            "text/plain": [
              "<Figure size 432x288 with 1 Axes>"
            ],
            "image/png": "[encoded data removed]"
          },
          "metadata": {
            "needs_background": "light"
          }
        }
      ]
    },
    {
      "cell_type": "markdown",
      "metadata": {
        "id": "kLhiWnirwE4R"
      },
      "source": [
        "We could already build our first hand-engineered simple classifier. From the figures we can observe that survival is very much related to being a female first class passenger.  To provide a better overview we will do this later and compare it with our logistic regression results. \n",
        "\n",
        "We are now ready to build our dataset with our selected features and write the code for the logistic regression itself. As a first subset we will select the features *sex, fare, parch, pclass and sibsp (number of siblings or spouses)*. For this we will do a final conversion of the *sex* column and drop one entry as each passenger has an entry for both female and male that are mutually exclusive (0, 1 or 1, 0). We can thus just drop one of the entries entirely.\n",
        "\n",
        "It's easiest if we concatenate (with *pd.concat*) the selected features into a new pandas data frame and then convert them to numpy matrices. The latter can be achieved by using the *pd.DataFrame.to_numpy(data_frame)* function. \n",
        "\n",
        "In order to have a format that is suitable for logistic regression we will also split the labels, in the titanic scenario the *survived* column, into a separate numpy array. "
      ]
    },
    {
      "cell_type": "code",
      "metadata": {
        "id": "hnPA5V4D4u4P",
        "outputId": "bd237ee1-f153-4c21-ee1c-c12df1dc7e54",
        "colab": {
          "base_uri": "https://localhost:8080/"
        }
      },
      "source": [
        "sex = pd.get_dummies(titanic[\"sex\"], drop_first=True)\n",
        "\n",
        "# subselect the categories sex, fare, parch, pclass, sibsp and concatenate them\n",
        "# into a new pandas dataframe called features\n",
        "\n",
        "features = pd.concat([sex, titanic[[\"fare\", \"parch\", \"pclass\", \"sibsp\"]]], axis=1)\n",
        "print(features)\n",
        "\n",
        "x = features.to_numpy()\n",
        "y = titanic[[\"survived\"]].to_numpy() # convert the survived category into numpy array"
      ],
      "execution_count": 50,
      "outputs": [
        {
          "output_type": "stream",
          "name": "stdout",
          "text": [
            "     male     fare  parch  pclass  sibsp\n",
            "0       1   7.2500      0       3      1\n",
            "1       0  71.2833      0       1      1\n",
            "2       0   7.9250      0       3      0\n",
            "3       0  53.1000      0       1      1\n",
            "4       1   8.0500      0       3      0\n",
            "..    ...      ...    ...     ...    ...\n",
            "886     1  13.0000      0       2      0\n",
            "887     0  30.0000      0       1      0\n",
            "888     0  23.4500      2       3      1\n",
            "889     1  30.0000      0       1      0\n",
            "890     1   7.7500      0       3      0\n",
            "\n",
            "[889 rows x 5 columns]\n"
          ]
        }
      ]
    },
    {
      "cell_type": "markdown",
      "metadata": {
        "id": "-aPPU6-lyY_i"
      },
      "source": [
        "## Creation of training and test data splits\n",
        "The numpy matrices we have just created still lack multiple steps before we can treat them as datasets for logistic regression.\n",
        "    1. The passanger entries are sorted. This can be problematic if we use stochastic gradient descent methods as some features will be fed first. \n",
        "    2. We do not have a train and test split. Creation of this split is crucial as it gives us means to estimate whether our trained model can extrapolate to \"unseen\" data from the same data distribution, how much it generalizes and how much the model overfits, i.e. \"learns by heart\". \n",
        "    \n",
        "Let's create a held-out test set by first shuffling the dataset and then extracting 20% of the data. \n",
        "\n",
        "We will also have to reshape the labels from vectors to matrices because of shape expectations of numpy's internal matrix multiplication."
      ]
    },
    {
      "cell_type": "code",
      "metadata": {
        "id": "z1pNmhO46ybH",
        "outputId": "473422d6-1651-4b05-9125-526c63ada308",
        "colab": {
          "base_uri": "https://localhost:8080/"
        }
      },
      "source": [
        "# create random permutation of indices of length of the dataset. \n",
        "# You can use np.random.permutation for this\n",
        "perm = np.random.permutation(len(x))\n",
        "\n",
        "# subselect 80% of the generated permuted indices to split the training data\n",
        "p = 0.8\n",
        "x_train = x[perm[:int(p*len(x))]] # first 80% of perm\n",
        "y_train = y[perm[:int(p*len(y))]]\n",
        "\n",
        "# use the remaining 20% to get a test split\n",
        "x_test = x[perm[int(p*len(x)):]] # remaining 20% of perm\n",
        "y_test = y[perm[int(p*len(y)):]]\n",
        "\n",
        "print(x_train.shape, x_test.shape, y_train.shape, y_test.shape)\n",
        "\n",
        "# reshape the labels to fit later matrix multiplications (add a dummy dimension)\n",
        "y_train = y_train.reshape(-1, 1)\n",
        "y_test = y_test.reshape(-1, 1)\n",
        "\n",
        "print(y_train.shape, y_test.shape)"
      ],
      "execution_count": 55,
      "outputs": [
        {
          "output_type": "stream",
          "name": "stdout",
          "text": [
            "(711, 5) (178, 5) (711, 1) (178, 1)\n",
            "(711, 1) (178, 1)\n"
          ]
        }
      ]
    },
    {
      "cell_type": "markdown",
      "metadata": {
        "id": "Jrr2Tptqzcuf"
      },
      "source": [
        "## Logistic regression\n",
        "\n",
        "We are ready for the final step. We will now need to implement the missing functionality for the logistic regression itself:\n",
        "    1. The sigmoid function  \n",
        "    2. The cross-entropy loss function\n",
        "    3. The gradient update rule\n",
        "    4. The training loop\n",
        "    5. A function to test accuracy on the dataset splits"
      ]
    },
    {
      "cell_type": "markdown",
      "metadata": {
        "id": "cSznNdPwATfZ"
      },
      "source": [
        "Sigmoid function: $\\frac{1}{1 + e^{-z}}$"
      ]
    },
    {
      "cell_type": "code",
      "metadata": {
        "id": "tQGsBWmz0h5i"
      },
      "source": [
        "def sigmoid(z):\n",
        "    \"\"\"\n",
        "    Compute the Sigmoid function\n",
        "    \n",
        "    Parameters:\n",
        "        z (float, np.array): scalar value or numpy array\n",
        "        \n",
        "    Returns:\n",
        "        float, np.array: sigmoid(x)\n",
        "    \"\"\"\n",
        "    \n",
        "    sig = 1.0 / (1.0 + np.exp(-1.0 * z))\n",
        "    return sig"
      ],
      "execution_count": 69,
      "outputs": []
    },
    {
      "cell_type": "markdown",
      "metadata": {
        "id": "xrTnsmIcAkvv"
      },
      "source": [
        "Cross-entropy loss: $−(y \\log(p)+(1−y)\\log(1−p))$"
      ]
    },
    {
      "cell_type": "code",
      "metadata": {
        "id": "xbIRAcZS9vI9"
      },
      "source": [
        "def log_loss(y, y_hat):\n",
        "    \"\"\"\n",
        "    Cross-entropy loss function\n",
        "    \n",
        "    Parameters:\n",
        "        y (float, np.array): Labels or targets\n",
        "        y_hat (float, np.array): Predictions\n",
        "        \n",
        "    Returns:\n",
        "    float: log loss\n",
        "    \"\"\"\n",
        "    loss = -np.mean(y * np.log(y_hat) + (1 - y) * np.log(1 - y_hat))\n",
        "    return loss"
      ],
      "execution_count": 74,
      "outputs": []
    },
    {
      "cell_type": "markdown",
      "metadata": {
        "id": "JCDF-B-bA89O"
      },
      "source": [
        "Gradient update, for now let's implement the regular easiest gradient descent update:"
      ]
    },
    {
      "cell_type": "code",
      "metadata": {
        "id": "kHaWAfR7oHeZ"
      },
      "source": [
        "def grad_update(grad, lr):\n",
        "    \"\"\"\n",
        "    Gradient descent update rule\n",
        "    \n",
        "    Parameters:\n",
        "        grad (float, np.array): Array of gradients for each weight\n",
        "        lr (float): learning rate\n",
        "    \"\"\"\n",
        "    return lr * grad"
      ],
      "execution_count": 59,
      "outputs": []
    },
    {
      "cell_type": "markdown",
      "metadata": {
        "id": "WE7Wpe-AzzSB"
      },
      "source": [
        "We initialize the weights and bias to zero and set a number of epochs to train and a learning rate to use in the update. Good starting values can be 10000 epochs with a learning rate of 0.005. "
      ]
    },
    {
      "cell_type": "code",
      "metadata": {
        "id": "0Y9R2Ju4-uCK",
        "outputId": "ea5d02a5-04f8-4357-bee9-bd251491888a",
        "colab": {
          "base_uri": "https://localhost:8080/"
        }
      },
      "source": [
        "W = np.zeros((x.shape[1], 1))  # initialize the weights with zeros. The shape should be feature_size, 1\n",
        "b = np.zeros((1, 1))  # initialize the biases with zeros. It is enough to use one bias value.\n",
        "\n",
        "num_epochs = 10000\n",
        "lr = 0.005\n",
        "\n",
        "losses = []\n",
        "\n",
        "for epoch in range(num_epochs):\n",
        "    z = (x_train @ W) + b\n",
        "    A = sigmoid(z)\n",
        "    loss = log_loss(y_train, A)\n",
        "    losses.append(loss)\n",
        "    \n",
        "    # compute the gradients of the cost function with respect to the weights\n",
        "    dz = A - y_train\n",
        "    dW = (x_train.T @ dz) / len(x_train)\n",
        "    db = np.sum(dz) / len(x_train)\n",
        "    \n",
        "    W = W - grad_update(dW, lr)\n",
        "    b = b - grad_update(db, lr)  # update the biases\n",
        "    \n",
        "    if epoch % 1000 == 0 and epoch > 0:\n",
        "        print(loss)"
      ],
      "execution_count": 79,
      "outputs": [
        {
          "output_type": "stream",
          "name": "stdout",
          "text": [
            "0.5519041279188317\n",
            "0.5289064659497071\n",
            "0.513897411157477\n",
            "0.5037048124863671\n",
            "0.49653472055149245\n",
            "0.49131627535778133\n",
            "0.4873878071201407\n",
            "0.48433047828416853\n",
            "0.4818741067387826\n"
          ]
        }
      ]
    },
    {
      "cell_type": "markdown",
      "metadata": {
        "id": "6LgAEtB40ELq"
      },
      "source": [
        "We should have seen the loss decreasing over time. For the trained model we can now print the weights and bias values. Unfortunately because logistic regression weights aren't linearly, but multiplicatively combined, it is not straight forward to interpret these weights. \n",
        "\n",
        "Don't worry though, in the next weeks we will learn about interpretability and how to inspect models!"
      ]
    },
    {
      "cell_type": "code",
      "metadata": {
        "id": "0Wer70jfBaOs",
        "outputId": "4318653f-a6ee-4d3c-e7df-8e847c797d32",
        "colab": {
          "base_uri": "https://localhost:8080/"
        }
      },
      "source": [
        "print(W, b)"
      ],
      "execution_count": 80,
      "outputs": [
        {
          "output_type": "stream",
          "name": "stdout",
          "text": [
            "[[-1.9453837 ]\n",
            " [ 0.01645658]\n",
            " [-0.13663109]\n",
            " [-0.17512068]\n",
            " [-0.25041681]] [[0.66605819]]\n"
          ]
        }
      ]
    },
    {
      "cell_type": "markdown",
      "metadata": {
        "id": "J68LhqB44_I0"
      },
      "source": [
        "Let's visualize our losses. Because we have so many values, it is recommended to take every tenth value only."
      ]
    },
    {
      "cell_type": "code",
      "metadata": {
        "id": "WSbp4YHt4j3I",
        "outputId": "52f47646-d72f-45a1-cd38-82f1f55de1ae",
        "colab": {
          "base_uri": "https://localhost:8080/",
          "height": 286
        }
      },
      "source": [
        "# plot every tenth value of the loss\n",
        "loss_every_tenth = np.array(losses)[::10]\n",
        "\n",
        "plt.figure()\n",
        "plt.plot(np.arange(0,loss_every_tenth.shape[0])*10, loss_every_tenth)"
      ],
      "execution_count": 87,
      "outputs": [
        {
          "output_type": "execute_result",
          "data": {
            "text/plain": [
              "[<matplotlib.lines.Line2D at 0x7f466b0a3310>]"
            ]
          },
          "metadata": {},
          "execution_count": 87
        },
        {
          "output_type": "display_data",
          "data": {
            "text/plain": [
              "<Figure size 432x288 with 1 Axes>"
            ],
            "image/png": "[encoded data removed]"
          },
          "metadata": {
            "needs_background": "light"
          }
        }
      ]
    },
    {
      "cell_type": "markdown",
      "metadata": {
        "id": "zwsTdvq60cex"
      },
      "source": [
        "While looking at the losses can be meaningful, it doesn't really help our human interpretation of how well we can do on our task of predicting passenger survival. As our model is prediction survival score (like a probability in [0, 1] range.) we can binarize the prediction to yield *survived* if the output value is greater than 0.5. We can calculate this for the entire train and test dataset splits and see how well our model does in terms of accuracy. "
      ]
    },
    {
      "cell_type": "code",
      "metadata": {
        "id": "pXFh9E2VuDfG"
      },
      "source": [
        "def eval_acc(x, y):\n",
        "    acc = 0.0\n",
        "    \n",
        "    # loop through the entire dataset and accumulate accuracy\n",
        "    for inp in range(len(x)):\n",
        "        # this will be the same as your training code, but without gradients\n",
        "        # or updates\n",
        "        z = (x[inp] @ W) + b\n",
        "        A = sigmoid(z)\n",
        "        \n",
        "        # check if the prediction matches the label. Note that we consider a \n",
        "        # label of 1 to match the prediction if the prediction is > 0.5 and vice\n",
        "        # versa\n",
        "        if (A > 0.5) == y[inp]:\n",
        "            acc += 1.0\n",
        "            \n",
        "    \n",
        "    # normalize the accumulated accuracy by the length of the dataset.\n",
        "    acc /= len(x)\n",
        "    return acc"
      ],
      "execution_count": 89,
      "outputs": []
    },
    {
      "cell_type": "code",
      "metadata": {
        "id": "DZ6fVk6jBr2M",
        "outputId": "5c9baece-7cba-4a24-ab8c-daacb764973c",
        "colab": {
          "base_uri": "https://localhost:8080/"
        }
      },
      "source": [
        "train_acc = eval_acc(x_train, y_train)\n",
        "test_acc = eval_acc(x_test, y_test)  # evaluate the test accuracy on the trained model\n",
        "\n",
        "print(\"Training accuracy: \", train_acc)    \n",
        "print(\"Testing accuracy: \", test_acc)  "
      ],
      "execution_count": 90,
      "outputs": [
        {
          "output_type": "stream",
          "name": "stdout",
          "text": [
            "Training accuracy:  0.7988748241912799\n",
            "Testing accuracy:  0.7921348314606742\n"
          ]
        }
      ]
    },
    {
      "cell_type": "markdown",
      "metadata": {
        "id": "YrpCwOWD1Eey"
      },
      "source": [
        "Depending on the exact random split and our gradient descent parameters we can observe training and testing accuracies greater than 80%. If the training accuracy is higher and the test accuracy is low this means that the model is overfitting. If neither of the two accuracies go beyond random chance of 50% (a coin-flip of whether a passenger survived or not) then the model has not trained or the gradient descent got stuck in a local minimum. \n",
        "\n",
        "To an extend we can avoid gradient descent (GD) getting stuck in bad local minima or saddle points by making it stochastic (SGD). In the lecture we have encountered a method called mini-batch stochastic gradient descent, that balances the advantages of SGD stochasticity and convergence of GD. \n",
        "\n",
        "Let's pick a starting batch size of 200 and see how the training behavior changes. Because we are now doing many more updates than before, it is generally a good idea to lower the learning rate a little or train for an overall lesser amount of epochs. We do not change the number of epochs here but instead halve the learning rate. "
      ]
    },
    {
      "cell_type": "code",
      "metadata": {
        "id": "EklL12ioFlml",
        "outputId": "be764bad-f978-4987-90a9-8dea782b42e8",
        "colab": {
          "base_uri": "https://localhost:8080/"
        }
      },
      "source": [
        "W = np.zeros((x.shape[1], 1))  # initialize the weights with zeros. The shape should be feature_size, 1\n",
        "b = np.zeros((1, 1))  # initialize the biases with zeros. It is enough to use one bias value.\n",
        "             \n",
        "num_epochs = 10000\n",
        "lr = 0.0025\n",
        "mb_size = 200\n",
        "\n",
        "losses = []\n",
        "\n",
        "for epoch in range(num_epochs):\n",
        "    \n",
        "    # in stochastic gradient descent we shuffle the train dataset at the\n",
        "    # beginning of every epoch to avoid \n",
        "    perm = np.random.permutation(len(x_train))  # create permuted integer indices for each dataset element \n",
        "    x_train, y_train = [x_train[perm], y_train[perm]]  # shuffle the training dataset\n",
        "    \n",
        "    # loop through the dataset in mini-batches\n",
        "    # because we are shuffling the dataset at every point and we do not want\n",
        "    # updates on a tiny batch size we can neglect the last mini-batch that is \n",
        "    # smaller than our mini-batch nice. \n",
        "    for mb in range(len(x_train) // mb_size):\n",
        "        start = mb*mb_size\n",
        "        stop = (mb+1)*mb_size\n",
        "        inp = x_train[start:stop] # subselect the current mini-batch train examples\n",
        "        target = y_train[start:stop] # subselect the current mini-batch of labels\n",
        "    \n",
        "        # as before calculate the model, gradients and do the update.\n",
        "        z = (inp @ W) + b\n",
        "        A = sigmoid(z)\n",
        "        loss = log_loss(target, A)\n",
        "        losses.append(loss)\n",
        "        \n",
        "        # compute the gradients of the cost function with respect to the weights\n",
        "        dz = A - target\n",
        "        dW = (inp.T @ dz) / len(inp)\n",
        "        db = np.sum(dz) / len(inp)\n",
        "        \n",
        "        W = W - grad_update(dW, lr)\n",
        "        b = b - grad_update(db, lr)  # update the biases\n",
        "\n",
        "    \n",
        "    if epoch % 1000 == 0 and epoch > 0:\n",
        "        print(loss)"
      ],
      "execution_count": 91,
      "outputs": [
        {
          "output_type": "stream",
          "name": "stdout",
          "text": [
            "0.5187457262576269\n",
            "0.5361535828810857\n",
            "0.4936549915867101\n",
            "0.46049943093707746\n",
            "0.5223260822835356\n",
            "0.5238210695293685\n",
            "0.5236304818820934\n",
            "0.5025895145514923\n",
            "0.46037247146453025\n"
          ]
        }
      ]
    },
    {
      "cell_type": "markdown",
      "metadata": {
        "id": "TLcSBOzx5M0p"
      },
      "source": [
        "Let's again visualize the losses"
      ]
    },
    {
      "cell_type": "code",
      "metadata": {
        "id": "OwMFqWA05Q0j",
        "outputId": "b5b67790-d643-4749-9889-243000197818",
        "colab": {
          "base_uri": "https://localhost:8080/",
          "height": 286
        }
      },
      "source": [
        "# visalize the losses again\n",
        "loss_every_tenth = np.array(losses)[::10]\n",
        "\n",
        "plt.figure()\n",
        "plt.plot(np.arange(0,loss_every_tenth.shape[0])*10, loss_every_tenth)"
      ],
      "execution_count": 92,
      "outputs": [
        {
          "output_type": "execute_result",
          "data": {
            "text/plain": [
              "[<matplotlib.lines.Line2D at 0x7f466af62890>]"
            ]
          },
          "metadata": {},
          "execution_count": 92
        },
        {
          "output_type": "display_data",
          "data": {
            "text/plain": [
              "<Figure size 432x288 with 1 Axes>"
            ],
            "image/png": "[encoded data removed]"
          },
          "metadata": {
            "needs_background": "light"
          }
        }
      ]
    },
    {
      "cell_type": "markdown",
      "metadata": {
        "id": "dRQWfpeZ2VK1"
      },
      "source": [
        "In contrast to gradient descent, we observe that the loss no longer behaves deterministically. It is a lot more \"jumpy\". In fact, if we run the same code multiple times we will also achieve a different result each time. Similarly, the final accuracy we achieve now varies. If we set the parameters right, we can observe the loss initially declining much faster and the final accuracy can be slightly higher. "
      ]
    },
    {
      "cell_type": "code",
      "metadata": {
        "id": "CqjkHMa0O20p",
        "outputId": "0683ee34-c6ad-40a4-c0b5-58a553e3594c",
        "colab": {
          "base_uri": "https://localhost:8080/"
        }
      },
      "source": [
        "train_acc = eval_acc(x_train, y_train)\n",
        "test_acc = eval_acc(x_test, y_test)\n",
        "\n",
        "print(\"Training accuracy: \", train_acc)    \n",
        "print(\"Testing accuracy: \", test_acc)  "
      ],
      "execution_count": 93,
      "outputs": [
        {
          "output_type": "stream",
          "name": "stdout",
          "text": [
            "Training accuracy:  0.7918424753867792\n",
            "Testing accuracy:  0.8033707865168539\n"
          ]
        }
      ]
    },
    {
      "cell_type": "markdown",
      "metadata": {
        "id": "NUpDA43XGRl9"
      },
      "source": [
        "## What now? \n",
        "\n",
        "What can we do now? In the next week we will learn about more expressive models like random forests and neural networks that achieve better accuracies and can fit more complex tasks with more than one label. \n",
        "For now here's a couple of suggestions what we can do immediately:\n",
        "\n",
        "\n",
        "    1. Run gradient descent multiple times in a row, do the same for stochastic gradient descent, what do you observe and why? \n",
        "    2. How does the model behave if we select a different smaller/large feature set? \n",
        "    3. We have learned about more advanced gradient descent techniques such as momentum or adaptive techniques such as Adam. Change the update function and observe what happens.\n",
        "    4. We have observed earlier that the sex and class feature seem to be highly correlated with survival rate. Can you build a simple classifier by hand, based on the assumption that high passenger class female passengers survive. How does it compare to the logistic regression you have trained?"
      ]
    }
  ]
}