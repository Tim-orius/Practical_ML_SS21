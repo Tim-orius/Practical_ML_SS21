{
  "nbformat": 4,
  "nbformat_minor": 0,
  "metadata": {
    "colab": {
      "name": "Regression_Titanic_dataset_solution.ipynb",
      "provenance": [],
      "collapsed_sections": [],
      "include_colab_link": true
    },
    "kernelspec": {
      "name": "python3",
      "display_name": "Python 3"
    }
  },
  "cells": [
    {
      "cell_type": "markdown",
      "metadata": {
        "id": "view-in-github",
        "colab_type": "text"
      },
      "source": [
        "<a href=\"https://colab.research.google.com/github/ccc-frankfurt/Practical_ML_SS21/blob/main/week02/Regression_Titanic_dataset_solution.ipynb\" target=\"_parent\"><img src=\"https://colab.research.google.com/assets/colab-badge.svg\" alt=\"Open In Colab\"/></a>"
      ]
    },
    {
      "cell_type": "markdown",
      "metadata": {
        "id": "k3fYh7yvuhzO"
      },
      "source": [
        "# Regression and the Titanic dataset\n",
        "\n",
        "Welcome to this week's session where we will explore the Titanic dataset and apply what we have learned about linear and logistic regression and gradient descent methods. \n",
        "\n",
        "You can find the Titanic dataset and a corresponding tutorial challenge on Kaggle at https://www.kaggle.com/c/titanic "
      ]
    },
    {
      "cell_type": "markdown",
      "metadata": {
        "id": "XfenGnZLFMUG"
      },
      "source": [
        "Let's first import the libraries we will need:"
      ]
    },
    {
      "cell_type": "code",
      "metadata": {
        "id": "Ftb-COR2ttbI"
      },
      "source": [
        "import pandas as pd \n",
        "import matplotlib.pyplot as plt\n",
        "import seaborn as sns \n",
        "import numpy as np\n",
        "%matplotlib inline\n",
        "sns.set()"
      ],
      "execution_count": 1,
      "outputs": []
    },
    {
      "cell_type": "markdown",
      "metadata": {
        "id": "JlyClR1TFT6Y"
      },
      "source": [
        "and load the dataset. Luckily the dataset is available through seaborns load_dataset function, but you can also find it on Kaggle.\n",
        "Let's print a summary of the dataset."
      ]
    },
    {
      "cell_type": "code",
      "metadata": {
        "id": "NPY-84n6vZIN",
        "colab": {
          "base_uri": "https://localhost:8080/"
        },
        "outputId": "2ed47b3c-6dd6-4e05-ba2c-ddd954209125"
      },
      "source": [
        "titanic = sns.load_dataset(\"titanic\")\n",
        "print(titanic.info())\n",
        "print(titanic.describe())"
      ],
      "execution_count": 2,
      "outputs": [
        {
          "output_type": "stream",
          "text": [
            "<class 'pandas.core.frame.DataFrame'>\n",
            "RangeIndex: 891 entries, 0 to 890\n",
            "Data columns (total 15 columns):\n",
            " #   Column       Non-Null Count  Dtype   \n",
            "---  ------       --------------  -----   \n",
            " 0   survived     891 non-null    int64   \n",
            " 1   pclass       891 non-null    int64   \n",
            " 2   sex          891 non-null    object  \n",
            " 3   age          714 non-null    float64 \n",
            " 4   sibsp        891 non-null    int64   \n",
            " 5   parch        891 non-null    int64   \n",
            " 6   fare         891 non-null    float64 \n",
            " 7   embarked     889 non-null    object  \n",
            " 8   class        891 non-null    category\n",
            " 9   who          891 non-null    object  \n",
            " 10  adult_male   891 non-null    bool    \n",
            " 11  deck         203 non-null    category\n",
            " 12  embark_town  889 non-null    object  \n",
            " 13  alive        891 non-null    object  \n",
            " 14  alone        891 non-null    bool    \n",
            "dtypes: bool(2), category(2), float64(2), int64(4), object(5)\n",
            "memory usage: 80.6+ KB\n",
            "None\n",
            "         survived      pclass         age       sibsp       parch        fare\n",
            "count  891.000000  891.000000  714.000000  891.000000  891.000000  891.000000\n",
            "mean     0.383838    2.308642   29.699118    0.523008    0.381594   32.204208\n",
            "std      0.486592    0.836071   14.526497    1.102743    0.806057   49.693429\n",
            "min      0.000000    1.000000    0.420000    0.000000    0.000000    0.000000\n",
            "25%      0.000000    2.000000   20.125000    0.000000    0.000000    7.910400\n",
            "50%      0.000000    3.000000   28.000000    0.000000    0.000000   14.454200\n",
            "75%      1.000000    3.000000   38.000000    1.000000    0.000000   31.000000\n",
            "max      1.000000    3.000000   80.000000    8.000000    6.000000  512.329200\n"
          ],
          "name": "stdout"
        }
      ]
    },
    {
      "cell_type": "markdown",
      "metadata": {
        "id": "ldMNQRXjF35c"
      },
      "source": [
        "## Inspecting the Titanic dataset and preparing it for machine learning\n",
        "\n",
        "Before we continue with machine learning algorithms, let us take a closer look at the dataset and select suitable features for our regression. \n",
        "\n",
        "A good first step is to count the number of entries per feature. "
      ]
    },
    {
      "cell_type": "code",
      "metadata": {
        "id": "LPnYXtlbwbF-",
        "colab": {
          "base_uri": "https://localhost:8080/"
        },
        "outputId": "e817b0bd-5405-49f9-f94a-35b340738aaf"
      },
      "source": [
        "print(\"Total count per category\")\n",
        "print(titanic.count())"
      ],
      "execution_count": 3,
      "outputs": [
        {
          "output_type": "stream",
          "text": [
            "Total count per category\n",
            "survived       891\n",
            "pclass         891\n",
            "sex            891\n",
            "age            714\n",
            "sibsp          891\n",
            "parch          891\n",
            "fare           891\n",
            "embarked       889\n",
            "class          891\n",
            "who            891\n",
            "adult_male     891\n",
            "deck           203\n",
            "embark_town    889\n",
            "alive          891\n",
            "alone          891\n",
            "dtype: int64\n"
          ],
          "name": "stdout"
        }
      ]
    },
    {
      "cell_type": "markdown",
      "metadata": {
        "id": "M6fj51_HGScr"
      },
      "source": [
        "We can observe that the passenger data has some **incomplete entries** and **some features are missing for certain passengers**. \n",
        "\n",
        "In addition some entries are lacking more than others. \n",
        "\n",
        "For the overall 891 passangers there is only 2 values missing for the catefories *embarked* and *embark_town*. In other words, we could easily adapt the dataset to include these two features by excluding these two passangers from our list of features. \n",
        "\n",
        "Other categories such as *age* and *deck* are much more difficult to leverage. We do not have any means to fill in the missing data and it is a bad idea to throw away the majority of our passenger data if we wanted to use the *deck* feature. The best idea is thus to not consider the *deck* feature in our further analysis.\n",
        "\n",
        "Let's drop the two passengers with missing *embarked* and *embark_town* entries:"
      ]
    },
    {
      "cell_type": "code",
      "metadata": {
        "id": "7SiXYrQcIkuI",
        "colab": {
          "base_uri": "https://localhost:8080/"
        },
        "outputId": "36dadfd5-763d-4fd0-d40e-abc87b8508fe"
      },
      "source": [
        "titanic = titanic.dropna(subset=[\"embarked\", \"embark_town\"])\n",
        "\n",
        "print(titanic.count())"
      ],
      "execution_count": 4,
      "outputs": [
        {
          "output_type": "stream",
          "text": [
            "survived       889\n",
            "pclass         889\n",
            "sex            889\n",
            "age            712\n",
            "sibsp          889\n",
            "parch          889\n",
            "fare           889\n",
            "embarked       889\n",
            "class          889\n",
            "who            889\n",
            "adult_male     889\n",
            "deck           201\n",
            "embark_town    889\n",
            "alive          889\n",
            "alone          889\n",
            "dtype: int64\n"
          ],
          "name": "stdout"
        }
      ]
    },
    {
      "cell_type": "markdown",
      "metadata": {
        "id": "pb8baVIvK2y7"
      },
      "source": [
        "The next thing we observe is that some features we want to use do not have numerical values but are stored as strings. \n",
        "\n",
        "This is the case for the embarked feature that we have just cleaned where passengers are stored into three categories *C, Q, S* depending on whether they have embarked in one of three towns: C = Cherbourg, Q = Queenstown, S = Southampton.   "
      ]
    },
    {
      "cell_type": "code",
      "metadata": {
        "id": "uYz3V-kwKzFd",
        "colab": {
          "base_uri": "https://localhost:8080/"
        },
        "outputId": "6d5c71a2-ae66-4f2a-fb41-8b4f4b7dde0e"
      },
      "source": [
        "print(titanic[\"embarked\"])"
      ],
      "execution_count": 5,
      "outputs": [
        {
          "output_type": "stream",
          "text": [
            "0      S\n",
            "1      C\n",
            "2      S\n",
            "3      S\n",
            "4      S\n",
            "      ..\n",
            "886    S\n",
            "887    S\n",
            "888    S\n",
            "889    C\n",
            "890    Q\n",
            "Name: embarked, Length: 889, dtype: object\n"
          ],
          "name": "stdout"
        }
      ]
    },
    {
      "cell_type": "markdown",
      "metadata": {
        "id": "r9_qVxunLdwf"
      },
      "source": [
        "What we often do in machine learning is that we can create a numerical **embedding** where we map the strings to numbers. In our case we can choose a quite simple one  and convert **C, Q, S into 0, 1, 2**.\n",
        "Luckily pandas offers a function for this named *replace({'string': num})*"
      ]
    },
    {
      "cell_type": "code",
      "metadata": {
        "id": "wST5AidoGN7V",
        "colab": {
          "base_uri": "https://localhost:8080/"
        },
        "outputId": "40e0b5ea-403d-4ce8-924a-b4e19931589d"
      },
      "source": [
        "# check if already converted because the cell will otherwise\n",
        "# crash if executed multiple times\n",
        "if isinstance(titanic[\"embarked\"][0], str):\n",
        "    titanic[\"embarked\"] = titanic[\"embarked\"].replace({'C': 0, 'Q': 1, 'S': 2})\n",
        "print(titanic)"
      ],
      "execution_count": 6,
      "outputs": [
        {
          "output_type": "stream",
          "text": [
            "     survived  pclass     sex   age  ...  deck  embark_town  alive  alone\n",
            "0           0       3    male  22.0  ...   NaN  Southampton     no  False\n",
            "1           1       1  female  38.0  ...     C    Cherbourg    yes  False\n",
            "2           1       3  female  26.0  ...   NaN  Southampton    yes   True\n",
            "3           1       1  female  35.0  ...     C  Southampton    yes  False\n",
            "4           0       3    male  35.0  ...   NaN  Southampton     no   True\n",
            "..        ...     ...     ...   ...  ...   ...          ...    ...    ...\n",
            "886         0       2    male  27.0  ...   NaN  Southampton     no   True\n",
            "887         1       1  female  19.0  ...     B  Southampton    yes   True\n",
            "888         0       3  female   NaN  ...   NaN  Southampton     no  False\n",
            "889         1       1    male  26.0  ...     C    Cherbourg    yes   True\n",
            "890         0       3    male  32.0  ...   NaN   Queenstown     no   True\n",
            "\n",
            "[889 rows x 15 columns]\n"
          ],
          "name": "stdout"
        }
      ]
    },
    {
      "cell_type": "markdown",
      "metadata": {
        "id": "AhQHVVcZtVsI"
      },
      "source": [
        "We can also notice that some features exist multiple times in the data frame in multiple repsentations such as *pclass* and *class*, once being encoded numerically and with a string. We will simply select only one of these categories later for our final dataset. \n",
        "\n",
        "Let's visuallize  some of the features:"
      ]
    },
    {
      "cell_type": "code",
      "metadata": {
        "id": "rpn2AHlxtNBZ",
        "colab": {
          "base_uri": "https://localhost:8080/"
        },
        "outputId": "1965abdd-3cd8-462a-bb81-1c3b3ec6b2a9"
      },
      "source": [
        "print(\"\\n Female only count\")\n",
        "print(titanic[titanic['sex'].str.match('female')].count())\n",
        "\n",
        "print(\"\\n Male only count\")\n",
        "print(titanic[titanic['sex'].str.match('male')].count())"
      ],
      "execution_count": 7,
      "outputs": [
        {
          "output_type": "stream",
          "text": [
            "\n",
            " Female only count\n",
            "survived       312\n",
            "pclass         312\n",
            "sex            312\n",
            "age            259\n",
            "sibsp          312\n",
            "parch          312\n",
            "fare           312\n",
            "embarked       312\n",
            "class          312\n",
            "who            312\n",
            "adult_male     312\n",
            "deck            95\n",
            "embark_town    312\n",
            "alive          312\n",
            "alone          312\n",
            "dtype: int64\n",
            "\n",
            " Male only count\n",
            "survived       577\n",
            "pclass         577\n",
            "sex            577\n",
            "age            453\n",
            "sibsp          577\n",
            "parch          577\n",
            "fare           577\n",
            "embarked       577\n",
            "class          577\n",
            "who            577\n",
            "adult_male     577\n",
            "deck           106\n",
            "embark_town    577\n",
            "alive          577\n",
            "alone          577\n",
            "dtype: int64\n"
          ],
          "name": "stdout"
        }
      ]
    },
    {
      "cell_type": "markdown",
      "metadata": {
        "id": "yVmd3MNJugLp"
      },
      "source": [
        "We can see that there was almost twice as many males as females on the titanic. \n",
        "\n",
        "If we take a look at the age distribution in a box plot with depicted mean and variances, we can see that age is almost evenly distributed, with some outliers in males aged older than 70. "
      ]
    },
    {
      "cell_type": "code",
      "metadata": {
        "id": "QKHqF3rUxYt1",
        "colab": {
          "base_uri": "https://localhost:8080/",
          "height": 302
        },
        "outputId": "8221c158-879c-4620-af7b-d801da202cc9"
      },
      "source": [
        "plt.figure()\n",
        "sns.boxplot(x='sex', y='age', data=titanic)"
      ],
      "execution_count": 8,
      "outputs": [
        {
          "output_type": "execute_result",
          "data": {
            "text/plain": [
              "<matplotlib.axes._subplots.AxesSubplot at 0x7f1592c038d0>"
            ]
          },
          "metadata": {
            "tags": []
          },
          "execution_count": 8
        },
        {
          "output_type": "display_data",
          "data": {
            "image/png": "[encoded data removed]",
            "text/plain": [
              "<Figure size 432x288 with 1 Axes>"
            ]
          },
          "metadata": {
            "tags": [],
            "needs_background": "light"
          }
        }
      ]
    },
    {
      "cell_type": "markdown",
      "metadata": {
        "id": "8WYfMSNtvELn"
      },
      "source": [
        "Let's proceed with taking a visual look at survival rates. Intuitively a good feature for survival rate would be the gender and class of a passenger.\n",
        "\n",
        "We can display both in a histogram. "
      ]
    },
    {
      "cell_type": "code",
      "metadata": {
        "id": "JVXaakWLur0n",
        "colab": {
          "base_uri": "https://localhost:8080/",
          "height": 570
        },
        "outputId": "2bde77f6-9539-4aad-9fcd-1e1cfd31482e"
      },
      "source": [
        "plt.figure()\n",
        "sns.countplot(x='survived', hue='class', data=titanic)\n",
        "\n",
        "plt.figure()\n",
        "sns.countplot(x='survived', hue='who', data=titanic)"
      ],
      "execution_count": 9,
      "outputs": [
        {
          "output_type": "execute_result",
          "data": {
            "text/plain": [
              "<matplotlib.axes._subplots.AxesSubplot at 0x7f1591b6b310>"
            ]
          },
          "metadata": {
            "tags": []
          },
          "execution_count": 9
        },
        {
          "output_type": "display_data",
          "data": {
            "image/png": "[encoded data removed]",
            "text/plain": [
              "<Figure size 432x288 with 1 Axes>"
            ]
          },
          "metadata": {
            "tags": [],
            "needs_background": "light"
          }
        },
        {
          "output_type": "display_data",
          "data": {
            "image/png": "[encoded data removed]",
            "text/plain": [
              "<Figure size 432x288 with 1 Axes>"
            ]
          },
          "metadata": {
            "tags": [],
            "needs_background": "light"
          }
        }
      ]
    },
    {
      "cell_type": "markdown",
      "metadata": {
        "id": "kLhiWnirwE4R"
      },
      "source": [
        "We could already build our first hand-engineered simple classifier. From the figures we can observe that survival is very much related to being a female first class passenger.  To provide a better overview we will do this later and compare it with our logistic regression results. \n",
        "\n",
        "We are now ready to build our dataset with our selected features and write the code for the logistic regression itself. As a first subset we will select the features *sex, fare, parch, pclass and sibsp (number of siblings or spouses)*. For this we will do a final conversion of the *sex* column and drop one entry as each passenger has an entry for both female and male that are mutually exclusive (0, 1 or 1, 0). We can thus just drop one of the entries entirely.\n",
        "\n",
        "It's easiest if we concatenate (with *pd.concat*) the selected features into a new pandas data frame and then convert them to numpy matrices. The latter can be achieved by using the *pd.DataFrame.to_numpy(data_frame)* function. \n",
        "\n",
        "In order to have a format that is suitable for logistic regression we will also split the labels, in the titanic scenario the *survived* column, into a separate numpy array. "
      ]
    },
    {
      "cell_type": "code",
      "metadata": {
        "id": "hnPA5V4D4u4P",
        "colab": {
          "base_uri": "https://localhost:8080/"
        },
        "outputId": "baa16c6d-386d-45e5-e9b2-4cf9ffb763e5"
      },
      "source": [
        "sex = pd.get_dummies(titanic[\"sex\"], drop_first=True)\n",
        "fare = titanic[\"fare\"]\n",
        "parch = titanic[\"parch\"]\n",
        "pclass = titanic[\"pclass\"]\n",
        "sibsp = titanic[\"sibsp\"]\n",
        "\n",
        "features = pd.concat([sex, fare, parch, pclass, sibsp], axis=1)\n",
        "print(features)\n",
        "\n",
        "x = pd.DataFrame.to_numpy(features)\n",
        "y = pd.DataFrame.to_numpy(titanic[\"survived\"])"
      ],
      "execution_count": 10,
      "outputs": [
        {
          "output_type": "stream",
          "text": [
            "     male     fare  parch  pclass  sibsp\n",
            "0       1   7.2500      0       3      1\n",
            "1       0  71.2833      0       1      1\n",
            "2       0   7.9250      0       3      0\n",
            "3       0  53.1000      0       1      1\n",
            "4       1   8.0500      0       3      0\n",
            "..    ...      ...    ...     ...    ...\n",
            "886     1  13.0000      0       2      0\n",
            "887     0  30.0000      0       1      0\n",
            "888     0  23.4500      2       3      1\n",
            "889     1  30.0000      0       1      0\n",
            "890     1   7.7500      0       3      0\n",
            "\n",
            "[889 rows x 5 columns]\n"
          ],
          "name": "stdout"
        }
      ]
    },
    {
      "cell_type": "markdown",
      "metadata": {
        "id": "-aPPU6-lyY_i"
      },
      "source": [
        "## Creation of training and test data splits\n",
        "The numpy matrices we have just created still lack multiple steps before we can treat them as datasets for logistic regression.\n",
        "    1. The passanger entries are sorted. This can be problematic if we use stochastic gradient descent methods as some features will be fed first. \n",
        "    2. We do not have a train and test split. Creation of this split is crucial as it gives us means to estimate whether our trained model can extrapolate to \"unseen\" data from the same data distribution, how much it generalizes and how much the model overfits, i.e. \"learns by heart\". \n",
        "    \n",
        "Let's create a held-out test set by first shuffling the dataset and then extracting 20% of the data. \n",
        "\n",
        "We will also have to reshape the labels from vectors to matrices because of shape expectations of numpy's internal matrix multiplication."
      ]
    },
    {
      "cell_type": "code",
      "metadata": {
        "id": "z1pNmhO46ybH",
        "colab": {
          "base_uri": "https://localhost:8080/"
        },
        "outputId": "a8ad6e3c-1147-44b5-9b23-2724164edbfe"
      },
      "source": [
        "perm = np.random.permutation(len(x))\n",
        "\n",
        "split = 0.8\n",
        "\n",
        "x_train, x_test = x[perm[:int(split*len(x))]], x[perm[int(split*len(x)):]]\n",
        "y_train, y_test = y[perm[:int(split*len(y))]], y[perm[int(split*len(y)):]]\n",
        "\n",
        "print(x_train.shape, x_test.shape, y_train.shape, y_test.shape)\n",
        "\n",
        "y_train = y_train.reshape(-1, 1)\n",
        "y_test = y_test.reshape(-1, 1)\n",
        "\n",
        "print(y_train.shape, y_test.shape)"
      ],
      "execution_count": 11,
      "outputs": [
        {
          "output_type": "stream",
          "text": [
            "(711, 5) (178, 5) (711,) (178,)\n",
            "(711, 1) (178, 1)\n"
          ],
          "name": "stdout"
        }
      ]
    },
    {
      "cell_type": "markdown",
      "metadata": {
        "id": "Jrr2Tptqzcuf"
      },
      "source": [
        "## Logistic regression\n",
        "\n",
        "We are ready for the final step. We will now need to implement the missing functionality for the logistic regression itself: \n",
        "    1. The sigmoid function\n",
        "    2. The cross-entropy loss function\n",
        "    3. The gradient update rule\n",
        "    4. The training loop\n",
        "    5. A function to test accuracy on the dataset splits"
      ]
    },
    {
      "cell_type": "code",
      "metadata": {
        "id": "tQGsBWmz0h5i"
      },
      "source": [
        "def sigmoid(z):\n",
        "    \"\"\"\n",
        "    Compute the Sigmoid function\n",
        "    \n",
        "    Parameters:\n",
        "        z (float, np.array): scalar value or numpy array\n",
        "        \n",
        "    Returns:\n",
        "        float, np.array: sigmoid(x)\n",
        "    \"\"\"\n",
        "    \n",
        "    sig = 1.0 / (1.0 + np.exp(-1.0 * z))\n",
        "    return sig"
      ],
      "execution_count": 12,
      "outputs": []
    },
    {
      "cell_type": "code",
      "metadata": {
        "id": "xbIRAcZS9vI9"
      },
      "source": [
        "def log_loss(y, y_hat):\n",
        "    \"\"\"\n",
        "    Cross-entropy loss function\n",
        "    \n",
        "    Parameters:\n",
        "        y (float, np.array): Labels or targets\n",
        "        y_hat (float, np.array): Predictions\n",
        "        \n",
        "    Returns:\n",
        "    float: log loss\n",
        "    \"\"\"\n",
        "    loss = -np.mean(y * np.log(y_hat) + (1-y) * np.log(1 - y_hat))\n",
        "    return loss"
      ],
      "execution_count": 13,
      "outputs": []
    },
    {
      "cell_type": "code",
      "metadata": {
        "id": "kHaWAfR7oHeZ"
      },
      "source": [
        "def grad_update(grad, lr):\n",
        "    \"\"\"\n",
        "    Gradient descent update rule\n",
        "    \n",
        "    Parameters:\n",
        "        grad (float, np.array): Array of gradients for each weight\n",
        "        lr (float): learning rate\n",
        "    \"\"\"\n",
        "    return lr * grad"
      ],
      "execution_count": 14,
      "outputs": []
    },
    {
      "cell_type": "markdown",
      "metadata": {
        "id": "WE7Wpe-AzzSB"
      },
      "source": [
        "We initialize the weights and bias to zero and set a number of epochs to train and a learning rate to use in the update. Good starting values can be 10000 epochs with a learning rate of 0.005. "
      ]
    },
    {
      "cell_type": "code",
      "metadata": {
        "id": "0Y9R2Ju4-uCK",
        "colab": {
          "base_uri": "https://localhost:8080/"
        },
        "outputId": "e6703fa2-668a-4829-b3dd-e59d7778c6af"
      },
      "source": [
        "W = np.zeros((x.shape[1], 1))\n",
        "b = np.zeros((1, 1))\n",
        "\n",
        "num_epochs = 10000\n",
        "lr = 0.005\n",
        "\n",
        "losses = []\n",
        "\n",
        "for epoch in range(num_epochs):\n",
        "    z = (x_train @ W) + b\n",
        "    A = sigmoid(z)\n",
        "    loss = log_loss(y_train, A)\n",
        "    losses.append(loss)\n",
        "    \n",
        "    dz = A - y_train\n",
        "    dW = (1/len(x_train)) * (x_train.T @ dz)\n",
        "    db = (1/len(x_train)) * np.sum(dz)\n",
        "    \n",
        "    W = W - grad_update(dW, lr)\n",
        "    b = b - grad_update(db, lr)\n",
        "    \n",
        "    if epoch % 1000 == 0 and epoch > 0:\n",
        "        print(loss)"
      ],
      "execution_count": 15,
      "outputs": [
        {
          "output_type": "stream",
          "text": [
            "0.5557247307304526\n",
            "0.5331027117097015\n",
            "0.5183976964172023\n",
            "0.508369000602473\n",
            "0.5012470060438342\n",
            "0.49599753313540174\n",
            "0.4919890043456034\n",
            "0.4888240342323991\n",
            "0.48624696192820976\n"
          ],
          "name": "stdout"
        }
      ]
    },
    {
      "cell_type": "markdown",
      "metadata": {
        "id": "6LgAEtB40ELq"
      },
      "source": [
        "We should have seen the loss decreasing over time. For the trained model we can now print the weights and bias values. Unfortunately because logistic regression weights aren't linearly, but multiplicatively combined, it is not straight forward to interpret these weights. \n",
        "\n",
        "Don't worry though, in the next weeks we will learn about interpretability and how to inspect models!"
      ]
    },
    {
      "cell_type": "code",
      "metadata": {
        "id": "0Wer70jfBaOs",
        "colab": {
          "base_uri": "https://localhost:8080/"
        },
        "outputId": "94b4e49d-8113-44e1-de92-83fbe9d065f6"
      },
      "source": [
        "print(W, b)"
      ],
      "execution_count": 16,
      "outputs": [
        {
          "output_type": "stream",
          "text": [
            "[[-1.9051336 ]\n",
            " [ 0.0137106 ]\n",
            " [-0.01759564]\n",
            " [-0.18346348]\n",
            " [-0.27394269]] [[0.74422458]]\n"
          ],
          "name": "stdout"
        }
      ]
    },
    {
      "cell_type": "markdown",
      "metadata": {
        "id": "J68LhqB44_I0"
      },
      "source": [
        "Let's visualize our losses. Because we have so many values, it is recommended to take every tenth value only."
      ]
    },
    {
      "cell_type": "code",
      "metadata": {
        "id": "WSbp4YHt4j3I",
        "colab": {
          "base_uri": "https://localhost:8080/",
          "height": 285
        },
        "outputId": "23016817-1a9d-40a7-b8ee-71da839d8ea1"
      },
      "source": [
        "plt.figure()\n",
        "plt.plot(losses[::10])"
      ],
      "execution_count": 17,
      "outputs": [
        {
          "output_type": "execute_result",
          "data": {
            "text/plain": [
              "[<matplotlib.lines.Line2D at 0x7f1591b6bb90>]"
            ]
          },
          "metadata": {
            "tags": []
          },
          "execution_count": 17
        },
        {
          "output_type": "display_data",
          "data": {
            "image/png": "[encoded data removed]",
            "text/plain": [
              "<Figure size 432x288 with 1 Axes>"
            ]
          },
          "metadata": {
            "tags": [],
            "needs_background": "light"
          }
        }
      ]
    },
    {
      "cell_type": "markdown",
      "metadata": {
        "id": "zwsTdvq60cex"
      },
      "source": [
        "While looking at the losses can be meaningful, it doesn't really help our human interpretation of how well we can do on our task of predicting passenger survival. As our model is prediction survival score (like a probability in [0, 1] range.) we can binarize the prediction to yield *survived* if the output value is greater than 0.5. We can calculate this for the entire train and test dataset splits and see how well our model does in terms of accuracy. "
      ]
    },
    {
      "cell_type": "code",
      "metadata": {
        "id": "pXFh9E2VuDfG"
      },
      "source": [
        "def eval_acc(x, y):\n",
        "    acc = 0.0\n",
        "    \n",
        "    for inp in range(len(x)):\n",
        "        z = (x[inp] @ W) + b\n",
        "        A = sigmoid(z)\n",
        "        \n",
        "        if (A > 0.5) == y[inp]:\n",
        "            acc += 1.0\n",
        "            \n",
        "    acc /= len(x)\n",
        "    return acc"
      ],
      "execution_count": 18,
      "outputs": []
    },
    {
      "cell_type": "code",
      "metadata": {
        "id": "DZ6fVk6jBr2M",
        "colab": {
          "base_uri": "https://localhost:8080/"
        },
        "outputId": "a706502d-1b86-40de-a250-e74cc1ff5127"
      },
      "source": [
        "train_acc = eval_acc(x_train, y_train)\n",
        "test_acc = eval_acc(x_test, y_test)\n",
        "\n",
        "print(\"Training accuracy: \", train_acc)    \n",
        "print(\"Testing accuracy: \", test_acc)  "
      ],
      "execution_count": 19,
      "outputs": [
        {
          "output_type": "stream",
          "text": [
            "Training accuracy:  0.7862165963431786\n",
            "Testing accuracy:  0.8033707865168539\n"
          ],
          "name": "stdout"
        }
      ]
    },
    {
      "cell_type": "markdown",
      "metadata": {
        "id": "YrpCwOWD1Eey"
      },
      "source": [
        "Depending on the exact random split and our gradient descent parameters we can observe training and testing accuracies greater than 80%. If the training accuracy is higher and the test accuracy is low this means that the model is overfitting. If neither of the two accuracies go beyond random chance of 50% (a coin-flip of whether a passenger survived or not) then the model has not trained or the gradient descent got stuck in a local minimum. \n",
        "\n",
        "To an extend we can avoid gradient descent (GD) getting stuck in bad local minima or saddle points by making it stochastic (SGD). In the lecture we have encountered a method called mini-batch stochastic gradient descent, that balances the advantages of SGD stochasticity and convergence of GD. \n",
        "\n",
        "Let's pick a starting batch size of 100 and see how the training behavior changes. Because we are now doing many more updates than before, it is generally a good idea to lower the learning rate a little or train for an overall lesser amount of epochs. We do not change the number of epochs here but instead halve the learning rate. "
      ]
    },
    {
      "cell_type": "code",
      "metadata": {
        "id": "EklL12ioFlml",
        "colab": {
          "base_uri": "https://localhost:8080/"
        },
        "outputId": "42407e1b-3d4b-415c-ddf2-3865619a0eb4"
      },
      "source": [
        "W = np.zeros((x.shape[1], 1))\n",
        "b = np.zeros((1, 1))\n",
        "             \n",
        "num_epochs = 10000\n",
        "lr = 0.0025\n",
        "mb_size = 100\n",
        "\n",
        "losses = []\n",
        "\n",
        "for epoch in range(num_epochs):\n",
        "    \n",
        "    perm = np.random.permutation(len(x_train))\n",
        "    x_train, y_train = x_train[perm], y_train[perm]\n",
        "    \n",
        "    # because we are shuffling the dataset at every point and we do not want\n",
        "    # updates on a tiny batch size we can neglect the last mini-batch that is \n",
        "    # smaller than our mini-batch nice. \n",
        "    for mb in range(int(len(x_train) / mb_size)):\n",
        "        inp = x_train[mb*mb_size:(mb+1)*mb_size]\n",
        "        target = y_train[mb*mb_size:(mb+1)*mb_size]\n",
        "    \n",
        "        z = (inp @ W) + b\n",
        "        A = sigmoid(z)\n",
        "        loss = log_loss(target, A)\n",
        "        losses.append(loss)\n",
        "    \n",
        "        dz = A - target\n",
        "        dW = (1/len(inp)) * (inp.T @ dz)\n",
        "        db = (1/len(inp)) * np.sum(dz)\n",
        "    \n",
        "        W = W - grad_update(dW, lr)\n",
        "        b = b - grad_update(db, lr)\n",
        "    \n",
        "    if epoch % 1000 == 0 and epoch > 0:\n",
        "        print(loss)"
      ],
      "execution_count": 20,
      "outputs": [
        {
          "output_type": "stream",
          "text": [
            "0.47367101808351564\n",
            "0.4374595531062696\n",
            "0.5071300953990877\n",
            "0.5023922258349279\n",
            "0.49199277591451573\n",
            "0.38215452252383186\n",
            "0.41871143052105997\n",
            "0.4623124846135089\n",
            "0.46852430755706953\n"
          ],
          "name": "stdout"
        }
      ]
    },
    {
      "cell_type": "markdown",
      "metadata": {
        "id": "TLcSBOzx5M0p"
      },
      "source": [
        "Let's again visualize the losses"
      ]
    },
    {
      "cell_type": "code",
      "metadata": {
        "id": "OwMFqWA05Q0j",
        "colab": {
          "base_uri": "https://localhost:8080/",
          "height": 285
        },
        "outputId": "5778a222-c399-4bee-efcc-bcf969232b46"
      },
      "source": [
        "plt.figure()\n",
        "plt.plot(losses[::10])"
      ],
      "execution_count": 21,
      "outputs": [
        {
          "output_type": "execute_result",
          "data": {
            "text/plain": [
              "[<matplotlib.lines.Line2D at 0x7f1591a8c790>]"
            ]
          },
          "metadata": {
            "tags": []
          },
          "execution_count": 21
        },
        {
          "output_type": "display_data",
          "data": {
            "image/png": "[encoded data removed]",
            "text/plain": [
              "<Figure size 432x288 with 1 Axes>"
            ]
          },
          "metadata": {
            "tags": [],
            "needs_background": "light"
          }
        }
      ]
    },
    {
      "cell_type": "markdown",
      "metadata": {
        "id": "dRQWfpeZ2VK1"
      },
      "source": [
        "In contrast to gradient descent, we observe that the loss no longer behaves deterministically. It is a lot more \"jumpy\". In fact, if we run the same code multiple times we will also achieve a different result each time. Similarly, the final accuracy we achieve now varies. If we set the parameters right, we can observe the loss initially declining much faster and the final accuracy can be slightly higher. "
      ]
    },
    {
      "cell_type": "code",
      "metadata": {
        "id": "CqjkHMa0O20p",
        "colab": {
          "base_uri": "https://localhost:8080/"
        },
        "outputId": "e0f8f715-9b97-4d90-80c2-4d513db4d3b7"
      },
      "source": [
        "train_acc = eval_acc(x_train, y_train)\n",
        "test_acc = eval_acc(x_test, y_test)\n",
        "\n",
        "print(\"Training accuracy: \", train_acc)    \n",
        "print(\"Testing accuracy: \", test_acc)  "
      ],
      "execution_count": 22,
      "outputs": [
        {
          "output_type": "stream",
          "text": [
            "Training accuracy:  0.8002812939521801\n",
            "Testing accuracy:  0.8146067415730337\n"
          ],
          "name": "stdout"
        }
      ]
    },
    {
      "cell_type": "markdown",
      "metadata": {
        "id": "Y-GpnnDDI1l6"
      },
      "source": [
        "## What now? \n",
        "\n",
        "What can we do now? In the next week we will learn about more expressive models like random forests and neural networks that achieve better accuracies and can fit more complex tasks with more than one label. \n",
        "For now here's a couple of suggestions what we can do immediately:\n",
        "\n",
        "\n",
        "    1. Run gradient descent multiple times in a row, do the same for stochastic gradient descent, what do you observe and why? \n",
        "    2. How does the model behave if we select a different smaller/large feature set? \n",
        "    3. We have learned about more advanced gradient descent techniques such as momentum or adaptive techniques such as Adam. Change the update function and observe what happens.\n",
        "    4. We have observed earlier that the sex and class feature seem to be highly correlated with survival rate. Can you build a simple classifier by hand, based on the assumption that high passenger class female passengers survive. How does it compare to the logistic regression you have trained?"
      ]
    }
  ]
}