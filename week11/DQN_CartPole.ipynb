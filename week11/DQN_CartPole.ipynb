{
  "nbformat": 4,
  "nbformat_minor": 0,
  "metadata": {
    "colab": {
      "name": "DQN-CartPole.ipynb",
      "provenance": [],
      "collapsed_sections": []
    },
    "kernelspec": {
      "name": "python3",
      "display_name": "Python 3"
    },
    "accelerator": "GPU"
  },
  "cells": [
    {
      "cell_type": "markdown",
      "metadata": {
        "id": "gRyizSSW2LDA"
      },
      "source": [
        "This notebook is based on coursera's Practical RL course by National Research University Higher School of Economics, https://www.coursera.org/learn/practical-rl/home/welcome\n",
        "\n",
        "We will make a DQN-Learning agent to solve OpenAI Gym's CartPole problem.\n",
        "\n",
        "Q-Learning update equations:\n",
        "\n",
        "\n",
        "*   tabular: $$ Q(s,a) := (1 - \\alpha) \\cdot Q(s,a) + \\alpha \\cdot (r(s,a) + \\gamma \\cdot V(s')) \\\\ = Q(s,a) + \\alpha \\cdot (r(s,a) + \\gamma \\cdot V(s') - Q(s,a))$$\n",
        "*    DQN: $$ L = { 1 \\over N} \\sum_i (Q_{\\theta}(s,a) - [r(s,a) + \\gamma \\cdot max_{a'} Q_{-}(s', a')]) ^2 $$"
      ]
    },
    {
      "cell_type": "code",
      "metadata": {
        "id": "KdVjjTaIlms4",
        "outputId": "51d2b0b5-9e7b-4e27-cb30-555d2d9f2067",
        "colab": {
          "base_uri": "https://localhost:8080/"
        }
      },
      "source": [
        "from collections import defaultdict\n",
        "import random, math\n",
        "import numpy as np\n",
        "import matplotlib.pyplot as plt\n",
        "from matplotlib import animation\n",
        "from IPython.display import HTML\n",
        "\n",
        "import torch\n",
        "import torch.nn as nn\n",
        "import torch.optim as optim\n",
        "\n",
        "manualSeed = 999\n",
        "print(\"Random Seed: \", manualSeed)\n",
        "random.seed(manualSeed)\n",
        "torch.manual_seed(manualSeed)"
      ],
      "execution_count": 1,
      "outputs": [
        {
          "output_type": "stream",
          "name": "stdout",
          "text": [
            "Random Seed:  999\n"
          ]
        },
        {
          "output_type": "execute_result",
          "data": {
            "text/plain": [
              "<torch._C.Generator at 0x7fa4c2c55af0>"
            ]
          },
          "metadata": {},
          "execution_count": 1
        }
      ]
    },
    {
      "cell_type": "code",
      "metadata": {
        "id": "tqWiwab7tuP8",
        "colab": {
          "base_uri": "https://localhost:8080/"
        },
        "outputId": "6672d437-b4cd-4880-b5e2-cfac74c27b83"
      },
      "source": [
        "#XVFB will be launched if you run on a server\n",
        "import os\n",
        "if os.environ.get(\"DISPLAY\") is not str or len(os.environ.get(\"DISPLAY\"))==0:\n",
        "    #!bash ../xvfb start\n",
        "    %env DISPLAY=:1"
      ],
      "execution_count": 2,
      "outputs": [
        {
          "output_type": "stream",
          "name": "stdout",
          "text": [
            "env: DISPLAY=:1\n"
          ]
        }
      ]
    },
    {
      "cell_type": "code",
      "metadata": {
        "id": "ZsTERNDJnN4g",
        "colab": {
          "base_uri": "https://localhost:8080/"
        },
        "outputId": "1009f724-5400-4b78-da8b-93d7b4905421"
      },
      "source": [
        "!apt-get -qq -y install xvfb freeglut3-dev cmake swig ffmpeg> /dev/null 2>&1\n",
        "!pip install pyvirtualdisplay\n",
        "\n",
        "from pyvirtualdisplay import Display\n",
        "display = Display(visible=0, size=(400, 300))\n",
        "display.start()\n",
        "%matplotlib inline"
      ],
      "execution_count": 3,
      "outputs": [
        {
          "output_type": "stream",
          "name": "stdout",
          "text": [
            "Collecting pyvirtualdisplay\n",
            "  Downloading PyVirtualDisplay-3.0-py3-none-any.whl (15 kB)\n",
            "Installing collected packages: pyvirtualdisplay\n",
            "Successfully installed pyvirtualdisplay-3.0\n"
          ]
        }
      ]
    },
    {
      "cell_type": "code",
      "metadata": {
        "id": "iRp87KGKu8Ia",
        "colab": {
          "base_uri": "https://localhost:8080/",
          "height": 398
        },
        "outputId": "55c7f25c-1a9f-4419-fd7b-b90b26c9b703"
      },
      "source": [
        "import gym\n",
        "\n",
        "env = gym.make(\"CartPole-v0\").env\n",
        "s = env.reset()\n",
        "\n",
        "n_actions = env.action_space.n\n",
        "state_dim = env.observation_space.shape[0]\n",
        "\n",
        "print(n_actions)\n",
        "print(env.action_space.sample())\n",
        "# continuous (!) valued observations: Cart Position, Cart Velocity, Pole Angle, Pole Velocity at Tip\n",
        "print(env.observation_space)\n",
        "print('state:')\n",
        "print(s)\n",
        "print(state_dim)\n",
        "plt.imshow(env.render('rgb_array'))"
      ],
      "execution_count": 4,
      "outputs": [
        {
          "output_type": "stream",
          "name": "stdout",
          "text": [
            "2\n",
            "1\n",
            "Box(-3.4028234663852886e+38, 3.4028234663852886e+38, (4,), float32)\n",
            "state:\n",
            "[ 0.04161798 -0.04537389 -0.01055042  0.04160573]\n",
            "4\n"
          ]
        },
        {
          "output_type": "execute_result",
          "data": {
            "text/plain": [
              "<matplotlib.image.AxesImage at 0x7fa4ac34ba90>"
            ]
          },
          "metadata": {},
          "execution_count": 4
        },
        {
          "output_type": "display_data",
          "data": {
            "text/plain": [
              "<Figure size 432x288 with 1 Axes>"
            ],
            "image/png": "[encoded data removed]"
          },
          "metadata": {
            "needs_background": "light"
          }
        }
      ]
    },
    {
      "cell_type": "code",
      "metadata": {
        "id": "H51R6ZQXglwK"
      },
      "source": [
        "class DQNAgent:\n",
        "    def __init__(self, state_dim, n_actions, epsilon=0, device='cuda'):\n",
        "        \"\"\"A simple DQN agent\"\"\"\n",
        "        \n",
        "                         \n",
        "        # Create a network for approximate q-learning:\n",
        "        # what is the input dimension?\n",
        "        # Linear(128), followed by RELU activation\n",
        "        # Linear(128), followed by RELU activation\n",
        "        # Last linear output layer: what should be the number of units?\n",
        "        self.network = nn.Sequential(\n",
        "            nn.Linear(in_features=state_dim, out_features=128),\n",
        "            nn.ReLU(),\n",
        "            nn.Linear(in_features=128, out_features=128),\n",
        "            nn.ReLU(),\n",
        "            nn.Linear(in_features=128, out_features=n_actions)\n",
        "        ).to(device)\n",
        "            \n",
        "        self.epsilon = epsilon\n",
        "        self.device = device\n",
        "        \n",
        "    def get_qvalues(self, state_t):\n",
        "        return self.network(state_t)\n",
        "    \n",
        "    def sample_action(self, qvalues):\n",
        "        \"\"\"Pick actions given qvalues. Uses epsilon-greedy exploration strategy. \"\"\"\n",
        "        epsilon = self.epsilon\n",
        "        batch_size, n_actions = qvalues.shape\n",
        "        # choose random actions with np.random.choice\n",
        "        # there have to be batch_size of them - one for every batch instance\n",
        "        random_actions = np.random.choice(n_actions, batch_size)\n",
        "        # for every batch instance calculate the index of the maximum qvalue\n",
        "        # hint: use the axis\n",
        "        best_actions = np.argmax(qvalues, axis=-1)\n",
        "        # with probability epsilon should explore is 1 and else 0 for every batch instance\n",
        "        # this is a mask we will use in np.where to select\n",
        "        should_explore = np.random.choice([0.0, 1.0], size=(batch_size), replace=True, p=[1-epsilon, self.epsilon])\n",
        "        # take random_actions is should_explore is 1 and best_actions else\n",
        "        return np.where(should_explore, random_actions, best_actions)\n",
        "    \n",
        "    def get_action(self, state_t):\n",
        "        # since in our case we learn on 1 sample only, we put the state into list to make batch_size=1\n",
        "        state_pt = torch.Tensor([state_t]).float().to(self.device)\n",
        "        qvalues = self.get_qvalues(state_pt).cpu().detach().numpy()\n",
        "        \n",
        "        # sample an action for the qvalues\n",
        "        # sample_action returns a list, so we take the first element, because our batch_size=1\n",
        "        return self.sample_action(qvalues)[0]\n",
        "    \n",
        "    def update(self, s, a, r, next_s, done):\n",
        "        self.optimizer.zero_grad()\n",
        "        \n",
        "        loss = self.loss_function([s],[a],[r],[next_s],[done])\n",
        "        \n",
        "        # backpropagate the loss and make an optimizer step\n",
        "        loss.backward()\n",
        "        self.optimizer.step()\n",
        "        \n",
        "    def loss_function(self, states, actions, rewards, next_states, is_done):\n",
        "        states_tmp = torch.Tensor(states).float().to(self.device)\n",
        "        actions_tmp = np.array(actions) # assure its an array and not a list\n",
        "        rewards_tmp = torch.Tensor(rewards).float().to(self.device)\n",
        "        next_states_tmp = torch.Tensor(next_states).float().to(self.device)\n",
        "        is_done_tmp = torch.Tensor(is_done).float().to(self.device)\n",
        "        \n",
        "        is_not_done = 1. - is_done_tmp\n",
        "        gamma = 0.99\n",
        "\n",
        "        \"\"\"Take q-values for actions agent just took\"\"\"\n",
        "        # get agent's qvalues for the states\n",
        "        current_qvalues = self.get_qvalues(states_tmp)\n",
        "        \n",
        "        # Create a one-hot target encoding\n",
        "        # 1. use numpy tp create an empty one-hot matrix of dimensions (batch_size, n_actions)\n",
        "        one_hot_actions = np.zeros((actions_tmp.shape[0], n_actions))\n",
        "\n",
        "        # 2. set target idx to 1\n",
        "        one_hot_actions[np.arange(actions_tmp.shape[0]), actions_tmp] = 1.0\n",
        "        # 3. convert to torch.Tensor\n",
        "        one_hot_actions = torch.Tensor(one_hot_actions).float().to(self.device)\n",
        "        \n",
        "        # for every batch instance, get the qvalue for the chosen action\n",
        "        # hint: use one_hot_actions and current_q_values, do not forget to set keepdim=True\n",
        "        current_action_qvalues = torch.sum(one_hot_actions*current_qvalues, dim=1, keepdim=True)\n",
        "\n",
        "        # compute q-values for NEXT states\n",
        "        # hint: use next_states_ph\n",
        "        next_qvalues_target = self.get_qvalues(next_states_tmp)\n",
        "\n",
        "        # compute state values by taking max over next_qvalues_target for all actions\n",
        "        # hint: use next_qvalues_target and do not forget to set keepdim=True\n",
        "        next_state_values_target,_ = torch.max(next_qvalues_target, dim=1, keepdim=True)\n",
        "\n",
        "        # compute Q_reference(s,a) as per r + gamma*v_next*is_not_done\n",
        "        # ATTENTION: think about what v_next is\n",
        "        reference_qvalues = rewards_tmp + gamma * next_state_values_target * is_not_done\n",
        "        # stop gradients of reference_qvalues\n",
        "        reference_qvalues = reference_qvalues.detach()\n",
        "\n",
        "        # Define loss function for sgd.\n",
        "        td_loss = (reference_qvalues - current_action_qvalues) * (reference_qvalues - current_action_qvalues)\n",
        "        td_loss = torch.mean(td_loss)\n",
        "        \n",
        "        return td_loss\n",
        "        \n",
        "    def set_optimizer(self):\n",
        "        \n",
        "        self.optimizer = optim.Adam(self.network.parameters(), lr=1e-4)"
      ],
      "execution_count": 5,
      "outputs": []
    },
    {
      "cell_type": "code",
      "metadata": {
        "id": "v0sBB3ZbsSqQ",
        "colab": {
          "base_uri": "https://localhost:8080/"
        },
        "outputId": "8d57166c-0c7e-4788-8d12-298c6a50732b"
      },
      "source": [
        "agent = DQNAgent(state_dim, n_actions, epsilon=0.5, device='cuda')\n",
        "print(agent.network)"
      ],
      "execution_count": 6,
      "outputs": [
        {
          "output_type": "stream",
          "name": "stdout",
          "text": [
            "Sequential(\n",
            "  (0): Linear(in_features=4, out_features=128, bias=True)\n",
            "  (1): ReLU()\n",
            "  (2): Linear(in_features=128, out_features=128, bias=True)\n",
            "  (3): ReLU()\n",
            "  (4): Linear(in_features=128, out_features=2, bias=True)\n",
            ")\n"
          ]
        }
      ]
    },
    {
      "cell_type": "code",
      "metadata": {
        "id": "qRsZdbgFhK5O"
      },
      "source": [
        "# since it is an NN agent, we need to set an optimizer\n",
        "agent.set_optimizer()"
      ],
      "execution_count": 7,
      "outputs": []
    },
    {
      "cell_type": "code",
      "metadata": {
        "id": "l7AysnffDtLF"
      },
      "source": [
        "# update at each train step\n",
        "def play_and_train(env,agent,t_max=1000, train=True):\n",
        "    \"\"\"\n",
        "    This function should \n",
        "    - run a full game, actions given by agent's e-greedy policy\n",
        "    - train agent using agent.update(...) whenever it is possible\n",
        "    - return total reward\n",
        "    \"\"\"\n",
        "    total_reward = 0.0\n",
        "    s = env.reset()\n",
        "    \n",
        "    for t in range(t_max):\n",
        "        # get agent to pick action given state s.\n",
        "        a = agent.get_action(s)\n",
        "        \n",
        "        # get next_state, reward etc.\n",
        "        ns, r, done, _ = env.step(a)\n",
        "        \n",
        "        if train:\n",
        "            # train (update) agent for state s\n",
        "            agent.update(s, a, r, ns, done)\n",
        "        \n",
        "        s = ns\n",
        "        total_reward +=r\n",
        "        if done: break\n",
        "        \n",
        "    return total_reward"
      ],
      "execution_count": 8,
      "outputs": []
    },
    {
      "cell_type": "markdown",
      "metadata": {
        "id": "08joimEEytgF"
      },
      "source": [
        "* __ mean reward__ is the average reward per game. For a correct implementation it may stay low for some 10 epochs, then start growing while oscilating insanely and converges by ~50-100 steps depending on the network architecture. \n",
        "* If it never reaches target score by the end of for loop, try increasing the number of hidden neurons or look at the epsilon.\n",
        "* __ epsilon__ - agent's willingness to explore. If you see that agent's already at < 0.01 epsilon before it's is at least 200, just reset it back to 0.1 - 0.5.\n",
        "* you may also try to tweak the learning rate of your optimizer"
      ]
    },
    {
      "cell_type": "code",
      "metadata": {
        "id": "jJeVP7SoVguN",
        "colab": {
          "base_uri": "https://localhost:8080/"
        },
        "outputId": "06d351ed-e022-4d28-d67a-0eb345375596"
      },
      "source": [
        "for i in range(100):\n",
        "    session_rewards = [play_and_train(env, agent, train=True) for _ in range(100)]\n",
        "    print(\"epoch #{}\\tmean reward = {:.3f}\\tepsilon = {:.3f}\".format(i, np.mean(session_rewards), agent.epsilon))\n",
        "    \n",
        "    agent.epsilon *= 0.99\n",
        "    assert agent.epsilon >= 1e-4, \"Make sure epsilon is always nonzero during training\"\n",
        "    \n",
        "    if np.mean(session_rewards) > 300:\n",
        "        print (\"You Win!\")\n",
        "        break"
      ],
      "execution_count": 9,
      "outputs": [
        {
          "output_type": "stream",
          "name": "stderr",
          "text": [
            "/usr/local/lib/python3.7/dist-packages/ipykernel_launcher.py:43: UserWarning: Creating a tensor from a list of numpy.ndarrays is extremely slow. Please consider converting the list to a single numpy.ndarray with numpy.array() before converting to a tensor. (Triggered internally at  ../torch/csrc/utils/tensor_new.cpp:210.)\n"
          ]
        },
        {
          "output_type": "stream",
          "name": "stdout",
          "text": [
            "epoch #0\tmean reward = 13.240\tepsilon = 0.500\n",
            "epoch #1\tmean reward = 15.400\tepsilon = 0.495\n",
            "epoch #2\tmean reward = 14.750\tepsilon = 0.490\n",
            "epoch #3\tmean reward = 17.080\tepsilon = 0.485\n",
            "epoch #4\tmean reward = 22.150\tepsilon = 0.480\n",
            "epoch #5\tmean reward = 30.400\tepsilon = 0.475\n",
            "epoch #6\tmean reward = 38.420\tepsilon = 0.471\n",
            "epoch #7\tmean reward = 42.770\tepsilon = 0.466\n",
            "epoch #8\tmean reward = 48.010\tepsilon = 0.461\n",
            "epoch #9\tmean reward = 60.050\tepsilon = 0.457\n",
            "epoch #10\tmean reward = 82.920\tepsilon = 0.452\n",
            "epoch #11\tmean reward = 116.310\tepsilon = 0.448\n",
            "epoch #12\tmean reward = 136.910\tepsilon = 0.443\n",
            "epoch #13\tmean reward = 167.830\tepsilon = 0.439\n",
            "epoch #14\tmean reward = 169.410\tepsilon = 0.434\n",
            "epoch #15\tmean reward = 183.950\tepsilon = 0.430\n",
            "epoch #16\tmean reward = 176.670\tepsilon = 0.426\n",
            "epoch #17\tmean reward = 236.580\tepsilon = 0.421\n",
            "epoch #18\tmean reward = 237.250\tepsilon = 0.417\n",
            "epoch #19\tmean reward = 268.390\tepsilon = 0.413\n",
            "epoch #20\tmean reward = 343.990\tepsilon = 0.409\n",
            "You Win!\n"
          ]
        }
      ]
    },
    {
      "cell_type": "code",
      "metadata": {
        "id": "GeFzEp4tuDMj"
      },
      "source": [
        "# record sessions\n",
        "import gym.wrappers\n",
        "env = gym.wrappers.Monitor(gym.make(\"CartPole-v0\"),directory=\"videos\",force=True)\n",
        "# set epsilon to 0, since for testing no exploration is needed\n",
        "agent.epsilon = 0\n",
        "sessions = [play_and_train(env, agent, train=False) for _ in range(1)]\n",
        "env.close()"
      ],
      "execution_count": 10,
      "outputs": []
    },
    {
      "cell_type": "code",
      "metadata": {
        "id": "fgw17Mw2Wcya",
        "colab": {
          "base_uri": "https://localhost:8080/",
          "height": 421
        },
        "outputId": "75d8c2f8-d4e0-4e6e-b919-55a0cbe0ed51"
      },
      "source": [
        "# show video\n",
        "# the visualization function from \n",
        "# https://star-ai.github.io/Rendering-OpenAi-Gym-in-Colaboratory/\n",
        "\n",
        "from IPython.display import HTML\n",
        "from IPython import display as ipythondisplay\n",
        "import io\n",
        "import base64\n",
        "\n",
        "video_names = list(filter(lambda s:s.endswith(\".mp4\"),os.listdir(\"./videos/\")))\n",
        "\n",
        "video = io.open(\"./videos/\"+video_names[-1], 'r+b').read()\n",
        "encoded = base64.b64encode(video)\n",
        "ipythondisplay.display(HTML(data='''<video alt=\"test\" autoplay \n",
        "                loop controls style=\"height: 400px;\">\n",
        "                <source src=\"data:video/mp4;base64,{0}\" type=\"video/mp4\" />\n",
        "             </video>'''.format(encoded.decode('ascii'))))"
      ],
      "execution_count": 11,
      "outputs": [
        {
          "output_type": "display_data",
          "data": {
            "text/plain": [
              "<IPython.core.display.HTML object>"
            ],
            "text/html": [
              "<video alt=\"test\" autoplay \n",
              "                loop controls style=\"height: 400px;\">\n",
              "                <source src=\"data:video/mp4;base64,AAAAIGZ0eXBpc29tAAACAGlzb21pc28yYXZjMW1wNDEAAAAIZnJlZQAAMC1tZGF0AAACrgYF//+q3EXpvebZSLeWLNgg2SPu73gyNjQgLSBjb3JlIDE1MiByMjg1NCBlOWE1OTAzIC0gSC4yNjQvTVBFRy00IEFWQyBjb2RlYyAtIENvcHlsZWZ0IDIwMDMtMjAxNyAtIGh0dHA6Ly93d3cudmlkZW9sYW4ub3JnL3gyNjQuaHRtbCAtIG9wdGlvbnM6IGNhYmFjPTEgcmVmPTMgZGVibG9jaz0xOjA6MCBhbmFseXNlPTB4MzoweDExMyBtZT1oZXggc3VibWU9NyBwc3k9MSBwc3lfcmQ9MS4wMDowLjAwIG1peGVkX3JlZj0xIG1lX3JhbmdlPTE2IGNocm9tYV9tZT0xIHRyZWxsaXM9MSA4eDhkY3Q9MSBjcW09MCBkZWFkem9uZT0yMSwxMSBmYXN0X3Bza2lwPTEgY2hyb21hX3FwX29mZnNldD0tMiB0aHJlYWRzPTMgbG9va2FoZWFkX3RocmVhZHM9MSBzbGljZWRfdGhyZWFkcz0wIG5yPTAgZGVjaW1hdGU9MSBpbnRlcmxhY2VkPTAgYmx1cmF5X2NvbXBhdD0wIGNvbnN0cmFpbmVkX2ludHJhPTAgYmZyYW1lcz0zIGJfcHlyYW1pZD0yIGJfYWRhcHQ9MSBiX2JpYXM9MCBkaXJlY3Q9MSB3ZWlnaHRiPTEgb3Blbl9nb3A9MCB3ZWlnaHRwPTIga2V5aW50PTI1MCBrZXlpbnRfbWluPTI1IHNjZW5lY3V0PTQwIGludHJhX3JlZnJlc2g9MCByY19sb29rYWhlYWQ9NDAgcmM9Y3JmIG1idHJlZT0xIGNyZj0yMy4wIHFjb21wPTAuNjAgcXBtaW49MCBxcG1heD02OSBxcHN0ZXA9NCBpcF9yYXRpbz0xLjQwIGFxPTE6MS4wMACAAAACC2WIhAAz//727L4FNf2f0JcRLMXaSnA+KqSAgHc0wAAAAwAAAwAAFgn0I7DkqgN3QAAAHGAFBCwCPCVC2EhH2OkN/wTj6yAS8Eux6HI9p5PFFneFGym/6ooY/+h4EOY3AbeUzfFm9329ztQ52ZFrngxNsTVe4LmYMxGrx+/FoeAgSm7s1tdUmiSXLkmivQAPBz/S1Xn1McCLg/x7MiaBWM78n/N0PnrolsjyGkIJF54b2a5Qxkx8KMz/Heo7h5T8bmfAlsRE9fyL1/Oqou5N5lPgWAFhYX4cm/mZ7urMCP13SP/bQdMoz6MwAXhlTltlu3JuZH+PJf0XSj75h8Dvwm+m91AAY0e1tKXGaacO9YqAUDXMWNIF+l2Ni3YK58lsmwCAiOtea5x9miYvO1DpUeZseGTpGUq/FVX2GmVa1ETEGx/DsGAZIk8DN3ZTFtUbOMiFjm8d5bBweQjISyzbSaka8DEi6ixAblMaRz2nWacP10EIrn6aWE5TcSN9U2I1lzCuksHtYqj6zAexOdFkDv6pL50dMzkNiZRNT2dGH+h2OTA8WKK5n6bccK82YfDtUvRAVefvdz9lApeXmLA+nE7K7mGH8Yd3RoArQRA9+Qki6DviPxpePOYZcGoc0+3Y4JWWhjyYbGq8fU+adBR/V6W8YilXiAzgC0+QC+5r3Uu5HgAAAwAAAwAAV8EAAADgQZokbEM//p4QAABFf/gcACg27LiPV15nuRUKfkBBlA05+jqVuWG5KB1M1mrWxMHgZSk/6wiC1Zm2R7gG6ugQLDA1pXe7Ct6cVM0gkgdIuPUYtH9pOOgOrZYIIaAl1XgFOtKiGMPtlsAMNCOkyEoJ+84DqhhTDIxPYgYoZW0HwYLbdd5Rv2GMlrkFcZbbgif1SxSiBkhfM5nonmrKEuDCp95ccu0KL+OArCy7rys+iWQid/ZLMbwxdmaT21YL30bZ9jBCqPJ1nTvNsRWagAdo41rbBFQI0FPIGFeTL9CUYcAAAAA+QZ5CeIR/AAAWOtCACv/rOX8cg8ojyEwHJTNDIdZ9qwm3N7kKxlKxNw35G12z+sU0lX2AAAAGDOuizHCA1IEAAAAwAZ5hdEf/AAAjwxdttRKoeb9ZsQRYD7GzmflEcsOjn3h7AAADAAADABHjmYO54QFTAAAAMwGeY2pH/wAAI7724pIAVgCodAu+maa2JBBVMX+17fE+6xAMflnc3As2AABYa28ZysQCkwAAAJxBmmhJqEFomUwIZ//+nhAAAEVIwOANv14LAGfCSuoF3fUQOlAVQQPnEPokcae4G35Vpk7bpLaTbbK+5ccL+Jy/X6Nf2TRsQ4G+z2v2k6paYcY68BkTwFKDOoXVBUsXlZSB1TwM5nDx/OGlmRPX/F4Sv7VZimVH9Bo3e70DRZ2gE/YVLHlvaKvtzgiCXPBoz9aPOrdi6bbgr3nHJZ0AAAA8QZ6GRREsI/8AABa1WK70p3b79RQvBrGNeINGE62hWPYgwPpK2aAEQXdtGivPJEQK8cE+5O4AysZ1S0vBAAAAJQGepXRH/wAAI8M+A4nk+ryHs+O6YApZni/vwGxUqbWCJSqsGVEAAAArAZ6nakf/AAAjx8aAoe+RPX8bChtx6CWyd2c8KDPkwetS4N7FcYV9Stqu4AAAAFJBmqxJqEFsmUwIZ//+nhAAAEVFBPccZZx33QAX07f6u3OTgN+S8iPFgLvKk2gNCLD8B21ZbErRmLIs0ruvFtwTP24MW2ugHLei7rdGm15ZWXTEAAAATkGeykUVLCP/AAAWvqTfbkgBy/Rs/NAB/Nx+l06LrKDy/bLx+M2Eh0qAEyf8gHO3al8iFJ3x4DyOMvRJQEg/aNBOXfvb/fKKeuP6CrOsoQAAADcBnul0R/8AACOe7XwcFgBXipbvuWS0jEjYYCFpz0ypT9hSvn9jMaPS6WuhnL6h7jOW8Puo1vNwAAAAKgGe62pH/wAAI7HMJ5ETRfA8wx1GJMN5MZt1W9x2bp0Bgfe9JtdSdaoMqAAAAFNBmvBJqEFsmUwIZ//+nhAAAEVUreSUAR5C/v/DYFcgr+Huj4wRwfqjkdn7IM1TriJ2h42uqiw5IYXoE/ycywSQmKlqRL+J/JrJWswLG6cSTaTlkQAAAEVBnw5FFSwj/wAAFqT7IlqpfhfcV/sEve6D48JT775r7/zzXwgU0chjtHohY5AFbdnJH/OR1EJj0toSq04H5SArSbEQrYEAAAAvAZ8tdEf/AAAjwzkWfSzfbRFDPNOjeY4xIZDjGba+kXAx35RfpxVMAk1QgA2SFJUAAAApAZ8vakf/AAAjvwQl2m2zMzUxb6oOSr/znWPMvnWXV6tslFOuCH7IccAAAAB/QZs0SahBbJlMCF///oywAABGEPXaMAOkemC1ceortuILS1HdgJ5TRFtUk/KHu14RWzAHXXNDrYMKyu2Vtlju3YqNzZKp6IuIniRG3jzvUqJHe3z1Xt9ajJhiAXKNrBmwoNpJEpcGr8N2n8JI9gd2JTHk2NiywOgZddNYkCypWAAAAFZBn1JFFSwj/wAAFsBWd8kEDbQPraTCljeVgAnDpWjdszug8+JihHE2YuECrFk9oBxSDXeOd4F8MnXOEFmOM9On5P0RFpKmjDDcgsGcqiTIfcaifnXTlQAAAEABn3F0R/8AACLDRxwDUbn7LBEccLS80tQFUiZvi2q3ybDBeTAvABCmIEWJZ/56ACcSNxxHr3vjtxNh5fFBo9JuAAAALgGfc2pH/wAAI78aby9id+mGeAcyoOilIN9svDuspCkPYkbG2OxRXj7vQwNpA3oAAABkQZt4SahBbJlMCF///oywAABGAtYjACwUXHiTE4Tm+RVjRsFILfnmNjiVONuHV7un60apDJOR7KAf84FgMHbY7sVOV+eHWspqlKSa9qOLkrVzr3GfdsL1cEnEihDIjZu0gJMGEwAAADFBn5ZFFSwj/wAAFrNIj/iK/J0qGgC4W8TpeZ2IX+1CUmi5+NDeocogc3F6LHRlSmVAAAAAMAGftXRH/wAAI8NCV7pEp1g2GAAsEM/2SO7mKG2mRChAUyIwxxZqq0+8zGDPmzRtwQAAAC0Bn7dqR/8AACPHK/qbQHsAEtUj8IbDNN5NgYYibWE+fQbQgFxeZdJ75H30yoEAAAB7QZu6SahBbJlMFEwz//6eEAAARW1e6WSgCO1zvSI9MjY/N8jfNr0BO4U4ZZ4opEe0giAgfPewyFpdnEQNl5YuVbdDJGDZ+Da25fwIWRDMC8+QCHJxKT62jnquerEDMOh3Os36l99f//+oIJo1ANyxUigK30dSIQz3Dy7EAAAAHgGf2WpH/wAAI7IxOv2Wk4U4ysMpd86vN27fSKRpJwAAAHFBm95J4QpSZTAhn/6eEAAARTZuKTKCwARfvlGhjC6dAHByCqG80XJYkjXFCiFnOGakWyQPiHdypEkBYpqzE1vGm9nUPPWogAZYJN017bha+U6p0LCmCZmtwbaBe94KR8b8nnsxj6CmQZRgoDmnlrkW/gAAADRBn/xFNEwj/wAAFrNIkTLOQI+wXWV4KjPGThATH3Kv3uXysgkfig6/q8x+Vnw0iiZLK3AhAAAALQGeG3RH/wAAJMMXcu4HAAuJ/NI2IVoUdJ8Agkv48T8O/5UAONIo6LXAYediwQAAACIBnh1qR/8AACTHvSxzi/EGK20yHs4wis+IgJu9s5rsJAXcAAAAUkGaAkmoQWiZTAhf//6MsAAASHpvPfLln2BhgTAAEv0Y6HuQt031kDpgB8WF+VDUNGOLelAyyi+6JIu0OKw4+v8XNa/qKVLPRsGlmJPEqWacibYAAAAvQZ4gRREsI/8AABdFPs2sldOIgAml8677jAOWDp/HpyHuVjTiRJqpltZ0KmMMrUkAAAAXAZ5fdEf/AAAkq/hm8WWdA2nwoGIuKCAAAAAZAZ5Bakf/AAAjsiruv+1SnHOJyCnhwE33uQAAAF9BmkZJqEFsmUwIX//+jLAAAEZAfZ6XXiaMAK+Ymc66Ss9UDU1MZanG1TuYfItIhRjmvaq+d0+Rj/u2FrW4hi07D9ql+NQ95g86zM+Cdj6qxN419uWt0RReYGcPOeabgAAAAClBnmRFFSwj/wAAFrNIi97tXi5tRFr7aIL5GyiBsUzFd2yETHPSrbqPgQAAABsBnoN0R/8AACTC8IXtpSUC/CSVc9VqfoiqCbkAAAAZAZ6Fakf/AAAkx7en3ENaN3G9tZT+VYvR/wAAAFpBmohJqEFsmUwUTDP//p4QAABHRQT3LnADRdc6HOLg8xklgFY0JoIr2a2CKlu4kq9tRkHa9cUyNPOV4xb9fAmtA5/K2j+/pzS0qf4QT12J0ltYjO64HYPbDxEAAAAsAZ6nakf/AAAkx8bYJWXaT1Yu4ikgAmlzVVzlN/U1O6VP/8fPxjQG6bLKPcAAAABLQZqsSeEKUmUwIZ/+nhAAAEdRCU8/mAAsFLd7uIDAn3ZqTiotGje+yQ/8J8wf+O3UspoqBjjfm+4XlrMNjPq1JZXYErjqKdWy/WyVAAAAQEGeykU0TCP/AAAXTd3GwNmwwAcUvH+ZVtJaX9pCAIxGjskLdy0ckcaZMWpC5btBeM44ijKFGjldOpe+SS3yO4EAAAAcAZ7pdEf/AAAkq/houSZemYADGdB4+5FTDqREiwAAACwBnutqR/8AACSxzAlvqW+yNPIAHG0vm3bezDpdZo80EWf1EnzpboIiPsbakAAAAElBmvBJqEFomUwIZ//+nhAAAEdEWgtnUsAJv63KzykemM6eQc1w2/amwYsI6OJaFP5JOoQo+fBLpoC4j2VMWRW6OlN73Rbr1Qy1AAAAJkGfDkURLCP/AAAXQ0e3DbkcrcCVNpdJcZV9UWHplX32UayWCSLBAAAAFgGfLXRH/wAAJMMXaKmlU9T7wgtJBvUAAAAvAZ8vakf/AAAkvwskkO2AxAXDM1+rfnLYIAWi+mc71ldMyPqO+s3CCmEsFhEh1FgAAAA4QZs0SahBbJlMCGf//p4QAABHRQVMunJDWaSoP2VWR80fZ9bx8GpPnAPzON95kuMLk80CT6iUkNwAAABGQZ9SRRUsI/8AABdN3doYtLqgCtQjfyg7X3+16/984J7UimCXeazrcHUrkSAkNZDbN+JYb1VMX1h+riPcePWKfQClBNbUgQAAACwBn3F0R/8AACTDQle6RQRhx3/VV8zNkkk5t+c+brt9dACaopw+TSGFjp8RYAAAACMBn3NqR/8AACSx6FUeO7xQlExOudsmbg/BJFD3fOXB4d97gAAAAEhBm3hJqEFsmUwIZ//+nhAAAEdRCU8FNkXOYZ+/WJx56ByddrNR2twfmYiZqDd9xo7d8emqcjAAtqH3/832k1uv6NVNAd7umIEAAABCQZ+WRRUsI/8AABdN3cajX6XAAe+KAIYYECdRUDjo+IflvFp0mALLKvZN7UwXDcIAcETA7Fxz23jiSQLNcCaoQM2vAAAAKwGftXRH/wAAI6xCYf8nZDM/YP8R3wAAWETfRvcwjdEMn65nLRNGrU3RUvEAAAAbAZ+3akf/AAAkscwJcFpxCNhjvk7mJNdW1+nBAAAASEGbvEmoQWyZTAhn//6eEAAAR3Mqa3cfUS7Dx/fqSvvtpwhdQtHjHDz3nESa7LjEAlzcouy/qWFQBs7Xt3I4gqV+4HO73N3TwAAAACNBn9pFFSwj/wAAF0NHtw25HC/l0Nex2iZuyX8JRbKKNMr5gQAAAB4Bn/l0R/8AACSr+Ft4Ep1oI4gR5aOd4ASXLUO+uj4AAAAsAZ/7akf/AAAjsjyvVEnfhWZAAtRG4RPq0moMKgdAmweba0x+ZcthYOC+8L0AAABJQZvgSahBbJlMCGf//p4QAABHRQncgCt5xbsSAsiWWJzo2BrAmlY60Cl/wX1prxsvGgv5pxhp//45rlT0p/OlfiKBuUf0MqqjYQAAACRBnh5FFSwj/wAAF05bycWnBV4eW59dvy1yKKF7VR39sCJmjTAAAAAiAZ49dEf/AAAkqeqDPTwdssjljuPETlFLCA8Saw+pb3kmmwAAABgBnj9qR/8AACTHK9VsWEeC1mpouxUfdUEAAABVQZokSahBbJlMCGf//p4QAABHUQl5ZEM+IZ7ZbXKguPeLnaJor5YgvlnpB1C5knN1nCjxlTcpQedxwkCFEJ1ukd2mlbgRydbSqP8/MICUV6M/82Nu+AAAACdBnkJFFSwj/wAAF05p2YGLWxtLjw1Cd7PdZGxW4pDUeg8gd4OOUacAAAAtAZ5hdEf/AAAkq/hbeBKdaCOIEZ65VrVrwACatLrgiYOp7+hq1c0VGimKHHqbAAAAKgGeY2pH/wAAJK5gAJg4ALhgFr3Wrv/+/gKt74SMw/xk5psYj5py4WqC8QAAAFBBmmhJqEFsmUwIZ//+nhAAAEdQyw6UAOMZve1QU8ErP0h+2gbOBWyBgwFd+Ayt//gufVrfjmvR+OcnbIivZ/wXnhs7+kXDkD4/I06GdoeA4QAAADJBnoZFFSwj/wAAF0uK0BmTABBzkoG90ter7jVlfaWsJQYoMydsrjrKIegrAX8/4DFn5wAAAB4BnqV0R/8AACS3zCFslFsgTSYrfLO1U8jzw+jgHL0AAAAaAZ6nakf/AAAkrmAGJziNMPo8yxTGzk+JBHwAAABSQZqsSahBbJlMCGf//p4QAABHUQl6Qtvi+oGFzGziezTPMuk/GGL0SDSruK/2aCfATQmA1tslLJsHBHC0L5g4SxBBscfrXkVgMvrG5/FcX2HENAAAADBBnspFFSwj/wAAFz03v3iJQAXOZZ2Zh3drwOV2/DhDSGZVgynzXa0zbYvbs9H4r6cAAAArAZ7pdEf/AAADAfuH1iQlZMitwhABdADD9ogiIvlfrVlRFdOyIBsVOlni7gAAABsBnutqR/8AACSyKwcTOOGoJyC/fcIFQ/2KXcAAAABQQZrwSahBbJlMCGf//p4QAABJum866mhwAHG9Mdpvh6GBQjdefd9jhzohtgADkSfQ+Hx0p5BGKi4vEM87FRFGzLrlq1dTgB19MdlpNpDTc0cAAAA2QZ8ORRUsI/8AABc1oZ5nU4lzMrXpWm/x3XY8eO+gzeCyTTlaIXs+wJ6679d46yfZ/ZtucooFAAAAHgGfLXRH/wAAJKw5BhRQSxW/SsMY6umllAbB5ZqTgQAAADcBny9qR/8AACTHK/6OkRH0Uxwc4D7c4xstofWlks6JB+xER9Z/oasAC573VSwp+qoJJYeja1AgAAAANkGbNEmoQWyZTAhn//6eEAAASURnwdSrW8gZruBkOfLCVGeUUPjwKmIADTjKFqAO7rQYhH8oOQAAAENBn1JFFSwj/wAAF+mFjn5KVgBpRLgvW4NPCMt24sT4UZPmGoH9bdTnuJkrTY8jECagCHueDZvlLmXPSNX3cSUnHx7rAAAAJgGfcXRH/wAAJKw5BrhhTDC5LxHPbcbPMnaVEZprz7tH/SJKBG3AAAAAGAGfc2pH/wAAJbHMCW+pb7IVSPv2rD96LgAAADxBm3hJqEFsmUwIZ//+nhAAAElEZ60D9cBWiR2gIW1Hrk6kB+E/dvDZBkOr0c1cuYsQpDFbE9KYm9drCFkAAABEQZ+WRRUsI/8AABfoypRwkACMXPqeP58kw504BpfS8isnwGiLVhWPSIm8O2dcEM1N4y0hg545Gk09TuzRm4/rjt7X7PgAAAAoAZ+1dEf/AAAlq/hbeBKdWDSeAG2Vp/afhcLPo4SjXVt2BOQB6VslxQAAACQBn7dqR/8AACXCOJFvXrJ3/AX3bKojyagR+cnaWsKHiDBo6cEAAABmQZu8SahBbJlMCGf//p4QAABJUMYmgAOa4/fllHbCTqc6OlnAIdYp4Dyv94tUT0Y3+XUM8dSpdAkeucExCf3chWD07QBIx/IwAfXTY4Cv6bo+CRAdoyLFQMZGifPOTPnG/JvYYxPIAAAAKUGf2kUVLCP/AAAX7YTiFkAAqsh2zFZCgPB7zz4iqloROofVVJbOB8XJAAAAGgGf+XRH/wAAJanpxxQmNiqqyho9x3mr5IGAAAAAHgGf+2pH/wAAJb8EK9ZetHPToblk3ug28muZvyMOSQAAADtBm+BJqEFsmUwIZ//+nhAAAElRCh0ABGMM1DveT0Rs+wSjYtFP+3oC67MzuAEFlQ2gUFkaFsbZtQeSIQAAAC1Bnh5FFSwj/wAAF+2ZUePRygIqxUZOxhXaA7xTHmaSAxfOkBITdv0IkR0Jz4AAAAAeAZ49dEf/AAAlq/hbeBKdaCOIEZ65GgPdG/y3e62AAAAALgGeP2pH/wAAJbHMCW+pbi1aYALbPN+m5YT1J2WJdkEqi+Afc3R+3MTMTeikwk0AAABLQZokSahBbJlMCGf//p4QAABJcHpUjlzYXDdAyAN5u4xIS2o1lFxVH9opxcGbe1MekPvFI3pDl0HQOqgNpy0nd2bCEMLM32uaD/JgAAAALUGeQkUVLCP/AAAX4ms3az45QXyrkK6M6tnWmP9S1eSnZ6e9grpBDyh0dZqrYQAAACcBnmF0R/8AACWq/yYAiKlvpzaTdPQWZ7t9jGZPPctW3cIPW5B/ybcAAAAdAZ5jakf/AAAFZzCWe4ktM1cKz3oaHwC0VVRhekEAAABFQZpoSahBbJlMCF///oywAABKQuH7xm4BFRg2uXqntI5+XKzHLkbDGfKH/U/dc/V94ahNiLjkyvSQ3apOox9o+RsX9GqxAAAAJkGehkUVLCP/AAAX4Ie3DcOKAEtM7VZ1fsUOsbrndXDCH+oxmgq3AAAAGAGepXRH/wAAJav4W3gSndF4UqiAF7lz/QAAADABnqdqR/8AACU9zA3a5xb9JMHoAFvEuH7FdtcbobRN8Tx89MEhfdedw0yq1GJWakAAAABrQZqrSahBbJlMCGf//p4QAABJRQXpiQb3S4P4LbsC8AGDB3Y0cybn/Olk6a4mqqIOYFR8dhHJD6rVtxVGvMo2rzMHSBWMvJCTYN4iyZFVxusnT1CwPl8uP+cd2J5+3N2rdd3AK1ursg8eXUAAAAAwQZ7JRRUsI/8AABfrqdtO6y1A6ckIAHFkgzhULvI9aOdLmWE2HQFDCsRDqshBqNnxAAAAGgGe6mpH/wAAJb2DQnMlv9Jti+Z1M4IBcmLAAAAAUUGa70moQWyZTAhn//6eEAAASWSNhyGKACJDFhRdEU8sj0l5LPrdLbtTyoFb+bMYEfFhZ2h2liwSuKsT7atM9XkcDXFUn5/Ryg5HEa137G3YjAAAACVBnw1FFSwj/wAAF+2E6g2peGUy/rfo+pEIDOggjtJP5ILp/RSDAAAALwGfLHRH/wAAJcCaluXl2mJHQNQJaJQATti/NZ6FPW+wNNXMz5CtfGTg6qD/0CQZAAAAKAGfLmpH/wAAJb8azn8wgAlqNqcIdjqZ6G8O6meDvEbS8cDtsy3W8bcAAABIQZszSahBbJlMCGf//p4QAABJZI2HEAxllTl/Fmeit8YlBAABdZi4khtvpr8rUnwiaLxEDGfYWcih6Da437SqPSTPb5JsnnNAAAAAJUGfUUUVLCP/AAAX4IiL3yrwzWoPEshoOnh/G0XMKwjRpca/eW0AAAAjAZ9wdEf/AAAln/k9yNH+kGmEnyyDIM4WgpAAmSObolUB70EAAAAeAZ9yakf/AAAOK/6rvf4GurBMhDfEEY8Yw+2+jH6YAAAAS0Gbd0moQWyZTAhn//6eEAAASUUNNYAIyPK4w4ALWjDWveboxv2nyDp9Oj95t51DEtxteMRqEReNNx75M47bjgR3BSEOAsSEEkcsGgAAAChBn5VFFSwj/wAAF+CIj/kb0iCSA9BT2W0zwl6LzW+ipgkQsdmcoZvbAAAAKAGftHRH/wAAAwH7h9ptSWoE8ACWKfm3ecSx/lrVFVVsEd2kDHFLpAYAAAAtAZ+2akf/AAAlmfubigA43YqIoE+YZ+mgUgX5i8tc3YC5hEUZ5nu8eYBoJh3BAAAALUGbu0moQWyZTAhn//6eEAAAS0RaC2cpcpbL6Ejyu22N/NjMIwegUslvvGqBQQAAAGFBn9lFFSwj/wAAGIl0Gwq+/noQAIvbQ2HfniYlzAwuo1RbU5yNMXIEvRxecTUnCJkL953GBcB1Gu9AIdsjdCr2v5Fmq5kGb5xJcn16+6IL+yJ0dhA4642YH0BMprplh3CAAAAAJwGf+HRH/wAAJUP3ppHAzXqbcRB4UzkG8Cf5I6MCyzoHpnXbeFiiwQAAAD4Bn/pqR/8AACa/BCcSyWmbXWBpRRtWP5Z1diNyDfuqjWeAKs9T+9LVtVsZ9rnXq4UYUTy4DrywmX+cBQ52fAAAAFZBm/9JqEFsmUwIZ//+nhAAAEtEWgt3K4tgAOgajTVRCrDegePre0n4Kl/RjNutx5Rv0h6Qnl9P2DAU3FxCyVevI5g2HWXXxBiiWniLlO3TfrIUh915WwAAAC1Bnh1FFSwj/wAAGI2E4gR9LfFSIk0UAAXDWX9uC93EBbsIzv6qd3AA/W9HZUEAAAAcAZ48dEf/AAAmwxdoqaVT1PvCCY6wGC3W67A5QAAAAC8Bnj5qR/8AACa/BCcSyWmauFZTHyo/FIbaABDWfl3rvaDQv71Qj4IxBlaxNmLsqAAAAGNBmiNJqEFsmUwIX//+jLAAAEwQvPvAIi8IjDSKOQB0VZx0kBn88l9d9RvtjskEKeuGP5urycnSEhrBN7lq5FcZuVNO3Q9sP2Pmy0ujAjLmTerW7gZZvD+wWwO+kxpeknqaT6kAAAAkQZ5BRRUsI/8AABiGeNVvRfrFPbfh1a+KKMla9xT6nEC8pVNeAAAAFgGeYHRH/wAAJshha/11hHk2a4ZB1nEAAAAqAZ5iakf/AAAmvwQl2mv/IT44S3gnkRnuABsMIS0NFpOy9hvJ8HoDwvZ8AAAARkGaZ0moQWyZTAhf//6MsAAATBBsmDADmkDybnG8oy5VumB337TcQgW1Yvm6Hdncvz7vrsiTU51odGa9h6HKgnD4hQ0V1CkAAAAlQZ6FRRUsI/8AABiAh/vShFLj9MYe41OolirHis3hf/A+GSQOUQAAADEBnqR0R/8AACbC5D48Y1rYMAFqJdI9FsIST7sDboXU1OSLN6+sMU8agMkb1INcK3PhAAAAGAGepmpH/wAAJr8EJxLJaZq4VlMfKdeO6QAAAEJBmqtJqEFsmUwIX//+jLAAAEwpXVSAC/2mUUBLCTuvFTiDT8/UN1dJcWq92c3TwybfTV1wwJaQHHB+Ld+Zf+zPDaAAAAAlQZ7JRRUsI/8AABiLm8raHqJMLTBPqwhoNvWLoiHGHsGQvmzOfAAAACIBnuh0R/8AACbDF2ippVPU+8IKmCOQ+9r0hjhjn8Ly192VAAAAFwGe6mpH/wAAJr8EJxLJaZq5OjxCBfeQAAAAS0Ga7EmoQWyZTAhn//6eEAAAAwP76iqS6RpwuYZS0ACs3ypFgjBwyAZ565WzSaJT50VZogsteSGBCyULmkIdKx69OHcwPXJBbWmgagAAAGNBmxBJ4QpSZTAhn/6eEAAAS0RcLkARL95d4CYpnDTB3S4P4Lbpv/+fxgkyjdxJubxB/QW+vsj6GXfLPtcp+0FBlQFhTLmzmSTVB3vpsjep26/NHDT/vnGCmWDM1FiuEA0oz8EAAAApQZ8uRTRMI/8AABiLqdtO2rySVflsykcpucxDhg7MgepEijrkpQHKdwkAAAAtAZ9NdEf/AAAmkrwgxqSFZp6n5FkIYeAEqFUekAendVBDiDi/KS6CpZXNLGvBAAAAIwGfT2pH/wAAJkPeu0Jo7dTVH2oRx1FW1hJmWCln1wXZBfsqAAAAVEGbVEmoQWiZTAhf//6MsAAATDEsP0FcQBUAOqcaFzl3p6V+eWvf3UV2E3O0dSsNQiiqTpXbZ90STYBsx9611PwXkna910ioZQNgeidqmAIYVrgBJAAAAC1Bn3JFESwj/wAAGIubzmfehIgA/IMoWCT1K14cX2ZqoUFpAu+AwVdn9gu+OUEAAAAUAZ+RdEf/AAAmqer414GzFl5N3WcAAAAhAZ+Takf/AAAmsjTZ6cAvgrrf5Ffn8+vozMPLvcHC3omvAAAARkGbmEmoQWyZTAhf//6MsAAATECT4SXPHgLJdC2LBrmulcj6YgwrxoAQ7yhHbP/X03+09HNhB+1zYffWE9uHFyPFiOAO0u8AAAAwQZ+2RRUsI/8AABiAiIvfKvCMsJfeBQJi9yuUEDZsxGkUfzwcMmYOZmWHWcYlLH7uAAAAJwGf1XRH/wAAJqw5Ba5PHz8VaFymjBfAB/O1Ao2RN4v8Qwe1jDA1oQAAABwBn9dqR/8AACaz1EAHD7kSUDtk2HmtGkr+7dFxAAAASkGb2kmoQWyZTBRMM//+nhAAAEtFBe9XrmARsQ1Jl9Gev7rsjBthLURupdTFHN2OLuLZs2k2B5aWKfONXL59lViapVcx6Agv5o4gAAAAIAGf+WpH/wAAJr8aznveCbZisWn0smbCAqOK37M7Gw7hAAAAakGb/knhClJlMCGf/p4QAABNum880qpWogBHSFXY858jkyNsQmtnyIJbTSQ5yVUsUtzOmhAihxZ1L7aGatTX3eCc7TMojVKqw5+a3empVtPB6qB4Y6kwDbr1HPPHNGsyFKpAMeWVRj1fFaQAAAAtQZ4cRTRMI/8AABiIytHmQjQQvbWPFGz5uAEsPRv7XWlw97vZAHWjqx0CEybRAAAAIgGeO3RH/wAAJqw24vewASx5t81K2QMICvDt09ZABmdWFnEAAAAfAZ49akf/AAAmrmAGJzdJ/4nj01sYgHdQY1ZcL6k2gAAAAD5BmiJJqEFomUwIZ//+nhAAAE2WfSiHl/TtWsJ2kWdKOSbXYMf3YXkz+1wAEEG6EN8VY+eWpUqtyi7ufuuQYAAAAC5BnkBFESwj/wAAGSZ43OvfejBJZnCHAEPc8IC/IYB25dZAnQ8+9hcXjMeBkZpxAAAAFwGef3RH/wAAJ9404YPnxDH7Oe7dMezAAAAAHgGeYWpH/wAAJ8mAn9RXVlWVmohglLF/wB/9s7FHWQAAAENBmmZJqEFsmUwIZ//+nhAAAE2WXkTaGgD9BKmg3IE9nrkFxDcoNlZ6d3CvQcep3wJtVQ35ilYSdEakb9N091XmNNHdAAAALEGehEUVLCP/AAAZLZaCCPpdwAALrVa2a8Pe1V4GMno7sLAk8hFug3S1ue1RAAAAGAGeo3RH/wAAJ8KTTYQpy8ikCWxAD3aPgQAAACABnqVqR/8AACfJgHDcoNcXHplnH+oMAteazcC1qTU2LQAAAERBmqpJqEFsmUwIX//+jLAAAE4CAkxESqopmroTF6yqcwcGYCwAiFsHhauaBKJIUQ5Q+5/OylmeH9lQhJfBxRxgPO8U0QAAADJBnshFFSwj/wAAGSCIKQYuRCDbRyeZCXFEep7mJqyI/vt/JP/ZOldG34KC1DiJitfd0AAAABkBnud0R/8AACfCk02EKcvIpAgRnpPkd0R8AAAAIAGe6WpH/wAAJ8mIWsAIwEkSIXYtW/1wwXIDcQnhQdEDAAAAQkGa7kmoQWyZTAhf//6MsAAATgIccgBB4rwo96ypaKFBS7lknAcoZNhLNRDSX4JXZz9HGBuD41usKUDyk6b2UmirHwAAACdBnwxFFSwj/wAAGSubyV33gpWkl7lR5MQ0KhahY8b8QADg0wVze1QAAAAaAZ8rdEf/AAAnwFg1A2CchpkJMCwoC0vyOxcAAAAcAZ8takf/AAAn42ZPUF4YV5b8kdydieJY+SQ9BwAAAFRBmzJJqEFsmUwIX//+jLAAAE4USJFBtbf8ALqfbByyLDA6rPgpqJsPNt29oNeWVZe1TUYI/VOT5IkJJ3HA9plMFqjLKf4hnIFPkms5PPQILPqZxmEAAAA0QZ9QRRUsI/8AABkXrkXKwFpnygBLTdmzqG6Q8lbwdkWXwWbzANpcjFCNqxiq6sMxMcGLLgAAACkBn290R/8AACe/8mwABn4GOaTdPQWZ7t9jDpNALY6IqQTSBtF6NeLNlwAAABYBn3FqR/8AACfFU9NC+X29NioSz3oPAAAAQUGbc0moQWyZTAhn//6eEAAATXHjjvmmaAVE143il9FiA9QCIFxc2irhpFQdTYkhTvjcxkcjZd5vDhtntMA/k8zgAAAAQUGbl0nhClJlMCF//oywAABOAfJ3ljzJqLChUHre7OccJZpqsD/S7o4BDdSYGtC+/TKtiRjnsYvMdD0oLxH8EAUgAAAANkGftUU0TCP/AAAZLZZ3yOggVC0ALFttmdlSSN+rxh9/iqUK9UNJxL8CygW9gUP5hqSGp7QWLQAAACcBn9R0R/8AACfeX2ippVPU++WEAA4wckaFy9r5z7vBL4pVVXsYWXAAAAAbAZ/Wakf/AAAn2aatjWWBRDCTbzjHgG+3g6G3AAAAVkGb20moQWiZTAhf//6MsAAATgLWIwAjA0MFABUmdd74BB5Q7DbQj/SpE3ILS42RUNlmvftTvTm3c6QDnPLzi7uoBJcxl0Rz4YsAl++DuyQBtyivqnkVAAAALkGf+UURLCP/AAAZLYTpvzWD7eOkGUFVEsrwJt3Jx0NsuYfa6YAXWnN3hNBxdoAAAAAhAZ4YdEf/AAAn0Lf+yTD95JAievhTyo5NpFNtmKt4G/ZRAAAAHAGeGmpH/wAAJ9mqbeGHl1gXUNmvYyklPoowrYsAAABIQZofSahBbJlMCF///oywAABOO1RlwsAHFb6rjkXI8Wo1WW7eecM9gtm+U4yi0TC+b5qEZ0Flj/NprVThdSq4OP4OydOnFQJLAAAAJEGePUUVLCP/AAAZGBlwpOiCXO/JwIp9uE340DezxRs3iW67QQAAABcBnlx0R/8AACeuZk9qw/UHnyFhqnd9IAAAAB0Bnl5qR/8AACfXqX3i9gyzajHxA2mAP5VV8fH3oAAAADpBmkNJqEFsmUwIV//+OEAAAS2THMZsAHDbxD0aVpUVdSKzqLL7e1wb19Bog9sfIQQvYPDcZvKkM5WbAAAALkGeYUUVLCP/AAAZF9KeSR6AA47eewweik6yvI4MdWTk0ZcXFQ4gA8BgjjwIsCAAAAAeAZ6AdEf/AAAnr9b+DWp2JTTaUI/1XMtUqV/jerhlAAAAHAGegmpH/wAAJ9epfeL2DLNqMfC+uINIej7LQz4AAAAvQZqHSahBbJlMCEf//eEAAASzW7+6JKQxwQ3nVBHsO0PVX5+7vs4h6UWlT0ioZEEAAAAqQZ6lRRUsI/8AABnNhOIEfS3xUiJLuLCAfo5zVRe1W/Ja6FGYu3se25PvAAAALwGexHRH/wAAKOgLtJPfROkBF5CwARkS3rW3rdDqDq8ZIKA5zzYHXDzyGN+TNJ8PAAAANAGexmpH/wAAKPlcbht0PEsahKbJbAAbrl29WSSpRvDNs8b4f1y5180BANQZAmngbfLhPcEAAAAWQZrISahBbJlMCP/8hAAAAwAAAwDAgAAADHdtb292AAAAbG12aGQAAAAAAAAAAAAAAAAAAAPoAAAPtAABAAABAAAAAAAAAAAAAAAAAQAAAAAAAAAAAAAAAAAAAAEAAAAAAAAAAAAAAAAAAEAAAAAAAAAAAAAAAAAAAAAAAAAAAAAAAAAAAAAAAAACAAALoXRyYWsAAABcdGtoZAAAAAMAAAAAAAAAAAAAAAEAAAAAAAAPtAAAAAAAAAAAAAAAAAAAAAAAAQAAAAAAAAAAAAAAAAAAAAEAAAAAAAAAAAAAAAAAAEAAAAACWAAAAZAAAAAAACRlZHRzAAAAHGVsc3QAAAAAAAAAAQAAD7QAAAIAAAEAAAAACxltZGlhAAAAIG1kaGQAAAAAAAAAAAAAAAAAADIAAADJAFXEAAAAAAAtaGRscgAAAAAAAAAAdmlkZQAAAAAAAAAAAAAAAFZpZGVvSGFuZGxlcgAAAArEbWluZgAAABR2bWhkAAAAAQAAAAAAAAAAAAAAJGRpbmYAAAAcZHJlZgAAAAAAAAABAAAADHVybCAAAAABAAAKhHN0YmwAAACYc3RzZAAAAAAAAAABAAAAiGF2YzEAAAAAAAAAAQAAAAAAAAAAAAAAAAAAAAACWAGQAEgAAABIAAAAAAAAAAEAAAAAAAAAAAAAAAAAAAAAAAAAAAAAAAAAAAAAAAAAAAAY//8AAAAyYXZjQwFkAB//4QAZZ2QAH6zZQJgz5eEAAAMAAQAAAwBkDxgxlgEABmjr48siwAAAABhzdHRzAAAAAAAAAAEAAADJAAABAAAAABRzdHNzAAAAAAAAAAEAAAABAAAGUGN0dHMAAAAAAAAAyAAAAAEAAAIAAAAAAQAABQAAAAABAAACAAAAAAEAAAAAAAAAAQAAAQAAAAABAAAFAAAAAAEAAAIAAAAAAQAAAAAAAAABAAABAAAAAAEAAAUAAAAAAQAAAgAAAAABAAAAAAAAAAEAAAEAAAAAAQAABQAAAAABAAACAAAAAAEAAAAAAAAAAQAAAQAAAAABAAAFAAAAAAEAAAIAAAAAAQAAAAAAAAABAAABAAAAAAEAAAUAAAAAAQAAAgAAAAABAAAAAAAAAAEAAAEAAAAAAQAAAwAAAAABAAABAAAAAAEAAAUAAAAAAQAAAgAAAAABAAAAAAAAAAEAAAEAAAAAAQAABQAAAAABAAACAAAAAAEAAAAAAAAAAQAAAQAAAAABAAAFAAAAAAEAAAIAAAAAAQAAAAAAAAABAAABAAAAAAEAAAMAAAAAAQAAAQAAAAABAAAFAAAAAAEAAAIAAAAAAQAAAAAAAAABAAABAAAAAAEAAAUAAAAAAQAAAgAAAAABAAAAAAAAAAEAAAEAAAAAAQAABQAAAAABAAACAAAAAAEAAAAAAAAAAQAAAQAAAAABAAAFAAAAAAEAAAIAAAAAAQAAAAAAAAABAAABAAAAAAEAAAUAAAAAAQAAAgAAAAABAAAAAAAAAAEAAAEAAAAAAQAABQAAAAABAAACAAAAAAEAAAAAAAAAAQAAAQAAAAABAAAFAAAAAAEAAAIAAAAAAQAAAAAAAAABAAABAAAAAAEAAAUAAAAAAQAAAgAAAAABAAAAAAAAAAEAAAEAAAAAAQAABQAAAAABAAACAAAAAAEAAAAAAAAAAQAAAQAAAAABAAAFAAAAAAEAAAIAAAAAAQAAAAAAAAABAAABAAAAAAEAAAUAAAAAAQAAAgAAAAABAAAAAAAAAAEAAAEAAAAAAQAABQAAAAABAAACAAAAAAEAAAAAAAAAAQAAAQAAAAABAAAFAAAAAAEAAAIAAAAAAQAAAAAAAAABAAABAAAAAAEAAAUAAAAAAQAAAgAAAAABAAAAAAAAAAEAAAEAAAAAAQAABQAAAAABAAACAAAAAAEAAAAAAAAAAQAAAQAAAAABAAAFAAAAAAEAAAIAAAAAAQAAAAAAAAABAAABAAAAAAEAAAQAAAAAAgAAAQAAAAABAAAFAAAAAAEAAAIAAAAAAQAAAAAAAAABAAABAAAAAAEAAAUAAAAAAQAAAgAAAAABAAAAAAAAAAEAAAEAAAAAAQAABQAAAAABAAACAAAAAAEAAAAAAAAAAQAAAQAAAAABAAAFAAAAAAEAAAIAAAAAAQAAAAAAAAABAAABAAAAAAEAAAUAAAAAAQAAAgAAAAABAAAAAAAAAAEAAAEAAAAAAQAABQAAAAABAAACAAAAAAEAAAAAAAAAAQAAAQAAAAABAAAFAAAAAAEAAAIAAAAAAQAAAAAAAAABAAABAAAAAAEAAAUAAAAAAQAAAgAAAAABAAAAAAAAAAEAAAEAAAAAAQAAAgAAAAABAAAFAAAAAAEAAAIAAAAAAQAAAAAAAAABAAABAAAAAAEAAAUAAAAAAQAAAgAAAAABAAAAAAAAAAEAAAEAAAAAAQAABQAAAAABAAACAAAAAAEAAAAAAAAAAQAAAQAAAAABAAADAAAAAAEAAAEAAAAAAQAABQAAAAABAAACAAAAAAEAAAAAAAAAAQAAAQAAAAABAAAFAAAAAAEAAAIAAAAAAQAAAAAAAAABAAABAAAAAAEAAAUAAAAAAQAAAgAAAAABAAAAAAAAAAEAAAEAAAAAAQAABQAAAAABAAACAAAAAAEAAAAAAAAAAQAAAQAAAAABAAAFAAAAAAEAAAIAAAAAAQAAAAAAAAABAAABAAAAAAEAAAUAAAAAAQAAAgAAAAABAAAAAAAAAAEAAAEAAAAAAQAAAgAAAAABAAAFAAAAAAEAAAIAAAAAAQAAAAAAAAABAAABAAAAAAEAAAUAAAAAAQAAAgAAAAABAAAAAAAAAAEAAAEAAAAAAQAABQAAAAABAAACAAAAAAEAAAAAAAAAAQAAAQAAAAABAAAFAAAAAAEAAAIAAAAAAQAAAAAAAAABAAABAAAAAAEAAAUAAAAAAQAAAgAAAAABAAAAAAAAAAEAAAEAAAAAAQAAAgAAAAAcc3RzYwAAAAAAAAABAAAAAQAAAMkAAAABAAADOHN0c3oAAAAAAAAAAAAAAMkAAATBAAAA5AAAAEIAAAA0AAAANwAAAKAAAABAAAAAKQAAAC8AAABWAAAAUgAAADsAAAAuAAAAVwAAAEkAAAAzAAAALQAAAIMAAABaAAAARAAAADIAAABoAAAANQAAADQAAAAxAAAAfwAAACIAAAB1AAAAOAAAADEAAAAmAAAAVgAAADMAAAAbAAAAHQAAAGMAAAAtAAAAHwAAAB0AAABeAAAAMAAAAE8AAABEAAAAIAAAADAAAABNAAAAKgAAABoAAAAzAAAAPAAAAEoAAAAwAAAAJwAAAEwAAABGAAAALwAAAB8AAABMAAAAJwAAACIAAAAwAAAATQAAACgAAAAmAAAAHAAAAFkAAAArAAAAMQAAAC4AAABUAAAANgAAACIAAAAeAAAAVgAAADQAAAAvAAAAHwAAAFQAAAA6AAAAIgAAADsAAAA6AAAARwAAACoAAAAcAAAAQAAAAEgAAAAsAAAAKAAAAGoAAAAtAAAAHgAAACIAAAA/AAAAMQAAACIAAAAyAAAATwAAADEAAAArAAAAIQAAAEkAAAAqAAAAHAAAADQAAABvAAAANAAAAB4AAABVAAAAKQAAADMAAAAsAAAATAAAACkAAAAnAAAAIgAAAE8AAAAsAAAALAAAADEAAAAxAAAAZQAAACsAAABCAAAAWgAAADEAAAAgAAAAMwAAAGcAAAAoAAAAGgAAAC4AAABKAAAAKQAAADUAAAAcAAAARgAAACkAAAAmAAAAGwAAAE8AAABnAAAALQAAADEAAAAnAAAAWAAAADEAAAAYAAAAJQAAAEoAAAA0AAAAKwAAACAAAABOAAAAJAAAAG4AAAAxAAAAJgAAACMAAABCAAAAMgAAABsAAAAiAAAARwAAADAAAAAcAAAAJAAAAEgAAAA2AAAAHQAAACQAAABGAAAAKwAAAB4AAAAgAAAAWAAAADgAAAAtAAAAGgAAAEUAAABFAAAAOgAAACsAAAAfAAAAWgAAADIAAAAlAAAAIAAAAEwAAAAoAAAAGwAAACEAAAA+AAAAMgAAACIAAAAgAAAAMwAAAC4AAAAzAAAAOAAAABoAAAAUc3RjbwAAAAAAAAABAAAAMAAAAGJ1ZHRhAAAAWm1ldGEAAAAAAAAAIWhkbHIAAAAAAAAAAG1kaXJhcHBsAAAAAAAAAAAAAAAALWlsc3QAAAAlqXRvbwAAAB1kYXRhAAAAAQAAAABMYXZmNTcuODMuMTAw\" type=\"video/mp4\" />\n",
              "             </video>"
            ]
          },
          "metadata": {}
        }
      ]
    }
  ]
}